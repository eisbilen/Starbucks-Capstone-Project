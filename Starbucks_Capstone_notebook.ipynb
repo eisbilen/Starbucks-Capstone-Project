{
 "cells": [
  {
   "cell_type": "markdown",
   "metadata": {},
   "source": [
    "# Starbucks Capstone Challenge\n",
    "\n",
    "### Introduction\n",
    "\n",
    "This data set contains simulated data that mimics customer behavior on the Starbucks rewards mobile app. Once every few days, Starbucks sends out an offer to users of the mobile app. An offer can be merely an advertisement for a drink or an actual offer such as a discount or BOGO (buy one get one free). Some users might not receive any offer during certain weeks. \n",
    "\n",
    "Not all users receive the same offer, and that is the challenge to solve with this data set.\n",
    "\n",
    "Your task is to combine transaction, demographic and offer data to determine which demographic groups respond best to which offer type. This data set is a simplified version of the real Starbucks app because the underlying simulator only has one product whereas Starbucks actually sells dozens of products.\n",
    "\n",
    "Every offer has a validity period before the offer expires. As an example, a BOGO offer might be valid for only 5 days. You'll see in the data set that informational offers have a validity period even though these ads are merely providing information about a product; for example, if an informational offer has 7 days of validity, you can assume the customer is feeling the influence of the offer for 7 days after receiving the advertisement.\n",
    "\n",
    "You'll be given transactional data showing user purchases made on the app including the timestamp of purchase and the amount of money spent on a purchase. This transactional data also has a record for each offer that a user receives as well as a record for when a user actually views the offer. There are also records for when a user completes an offer. \n",
    "\n",
    "Keep in mind as well that someone using the app might make a purchase through the app without having received an offer or seen an offer.\n",
    "\n",
    "### Example\n",
    "\n",
    "To give an example, a user could receive a discount offer buy 10 dollars get 2 off on Monday. The offer is valid for 10 days from receipt. If the customer accumulates at least 10 dollars in purchases during the validity period, the customer completes the offer.\n",
    "\n",
    "However, there are a few things to watch out for in this data set. Customers do not opt into the offers that they receive; in other words, a user can receive an offer, never actually view the offer, and still complete the offer. For example, a user might receive the \"buy 10 dollars get 2 dollars off offer\", but the user never opens the offer during the 10 day validity period. The customer spends 15 dollars during those ten days. There will be an offer completion record in the data set; however, the customer was not influenced by the offer because the customer never viewed the offer.\n",
    "\n",
    "### Cleaning\n",
    "\n",
    "This makes data cleaning especially important and tricky.\n",
    "\n",
    "You'll also want to take into account that some demographic groups will make purchases even if they don't receive an offer. From a business perspective, if a customer is going to make a 10 dollar purchase without an offer anyway, you wouldn't want to send a buy 10 dollars get 2 dollars off offer. You'll want to try to assess what a certain demographic group will buy when not receiving any offers.\n",
    "\n",
    "### Final Advice\n",
    "\n",
    "Because this is a capstone project, you are free to analyze the data any way you see fit. For example, you could build a machine learning model that predicts how much someone will spend based on demographics and offer type. Or you could build a model that predicts whether or not someone will respond to an offer. Or, you don't need to build a machine learning model at all. You could develop a set of heuristics that determine what offer you should send to each customer (i.e., 75 percent of women customers who were 35 years old responded to offer A vs 40 percent from the same demographic to offer B, so send offer A)."
   ]
  },
  {
   "cell_type": "markdown",
   "metadata": {},
   "source": [
    "# Data Sets\n",
    "\n",
    "The data is contained in three files:\n",
    "\n",
    "* portfolio.json - containing offer ids and meta data about each offer (duration, type, etc.)\n",
    "* profile.json - demographic data for each customer\n",
    "* transcript.json - records for transactions, offers received, offers viewed, and offers completed\n",
    "\n",
    "Here is the schema and explanation of each variable in the files:\n",
    "\n",
    "**portfolio.json**\n",
    "* id (string) - offer id\n",
    "* offer_type (string) - type of offer ie BOGO, discount, informational\n",
    "* difficulty (int) - minimum required spend to complete an offer\n",
    "* reward (int) - reward given for completing an offer\n",
    "* duration (int) - time for offer to be open, in days\n",
    "* channels (list of strings)\n",
    "\n",
    "**profile.json**\n",
    "* age (int) - age of the customer \n",
    "* became_member_on (int) - date when customer created an app account\n",
    "* gender (str) - gender of the customer (note some entries contain 'O' for other rather than M or F)\n",
    "* id (str) - customer id\n",
    "* income (float) - customer's income\n",
    "\n",
    "**transcript.json**\n",
    "* event (str) - record description (ie transaction, offer received, offer viewed, etc.)\n",
    "* person (str) - customer id\n",
    "* time (int) - time in hours since start of test. The data begins at time t=0\n",
    "* value - (dict of strings) - either an offer id or transaction amount depending on the record"
   ]
  },
  {
   "cell_type": "code",
   "execution_count": 1,
   "metadata": {},
   "outputs": [
    {
     "name": "stdout",
     "output_type": "stream",
     "text": [
      "Name: seaborn\r\n",
      "Version: 0.8.1\r\n",
      "Summary: Seaborn: statistical data visualization\r\n",
      "Home-page: http://seaborn.pydata.org\r\n",
      "Author: Michael Waskom\r\n",
      "Author-email: mwaskom@nyu.edu\r\n",
      "License: BSD (3-clause)\r\n",
      "Location: /opt/conda/lib/python3.6/site-packages\r\n",
      "Requires: numpy, scipy, matplotlib, pandas\r\n",
      "Required-by: \r\n"
     ]
    }
   ],
   "source": [
    "import pandas as pd\n",
    "import numpy as np\n",
    "import math\n",
    "import json\n",
    "import time\n",
    "import re\n",
    "\n",
    "from sklearn.svm import SVC as svc \n",
    "from sklearn.ensemble import GradientBoostingClassifier, RandomForestClassifier\n",
    "from sklearn.linear_model import LogisticRegression\n",
    "from sklearn.model_selection import train_test_split\n",
    "from sklearn.metrics import roc_curve, auc, confusion_matrix, precision_score, recall_score\n",
    "from sklearn.metrics import accuracy_score, f1_score, fbeta_score, make_scorer\n",
    "from sklearn.preprocessing import MinMaxScaler\n",
    "from sklearn.model_selection import GridSearchCV, RandomizedSearchCV\n",
    "\n",
    "!pip show seaborn\n",
    "\n",
    "import matplotlib.pyplot as plt\n",
    "import seaborn as sns\n",
    "\n",
    "\n",
    "# read in the json files\n",
    "portfolio = pd.read_json('data/portfolio.json', orient='records', lines=True)\n",
    "profile = pd.read_json('data/profile.json', orient='records', lines=True)\n",
    "transcript = pd.read_json('data/transcript.json', orient='records', lines=True)"
   ]
  },
  {
   "cell_type": "markdown",
   "metadata": {},
   "source": [
    "# Analysis\n",
    "\n",
    "## Data Exploration and Visualization\n",
    "\n",
    "### 1.Portfolio Dataset\n",
    "\n",
    "**portfolio.json**\n",
    "* id (string) - offer id\n",
    "* offer_type (string) - type of offer ie BOGO, discount, informational\n",
    "* difficulty (int) - minimum required spend to complete an offer\n",
    "* reward (int) - reward given for completing an offer\n",
    "* duration (int) - time for offer to be open, in days\n",
    "* channels (list of strings)"
   ]
  },
  {
   "cell_type": "code",
   "execution_count": 2,
   "metadata": {},
   "outputs": [
    {
     "data": {
      "text/html": [
       "<div>\n",
       "<style scoped>\n",
       "    .dataframe tbody tr th:only-of-type {\n",
       "        vertical-align: middle;\n",
       "    }\n",
       "\n",
       "    .dataframe tbody tr th {\n",
       "        vertical-align: top;\n",
       "    }\n",
       "\n",
       "    .dataframe thead th {\n",
       "        text-align: right;\n",
       "    }\n",
       "</style>\n",
       "<table border=\"1\" class=\"dataframe\">\n",
       "  <thead>\n",
       "    <tr style=\"text-align: right;\">\n",
       "      <th></th>\n",
       "      <th>channels</th>\n",
       "      <th>difficulty</th>\n",
       "      <th>duration</th>\n",
       "      <th>id</th>\n",
       "      <th>offer_type</th>\n",
       "      <th>reward</th>\n",
       "    </tr>\n",
       "  </thead>\n",
       "  <tbody>\n",
       "    <tr>\n",
       "      <th>0</th>\n",
       "      <td>[email, mobile, social]</td>\n",
       "      <td>10</td>\n",
       "      <td>7</td>\n",
       "      <td>ae264e3637204a6fb9bb56bc8210ddfd</td>\n",
       "      <td>bogo</td>\n",
       "      <td>10</td>\n",
       "    </tr>\n",
       "    <tr>\n",
       "      <th>1</th>\n",
       "      <td>[web, email, mobile, social]</td>\n",
       "      <td>10</td>\n",
       "      <td>5</td>\n",
       "      <td>4d5c57ea9a6940dd891ad53e9dbe8da0</td>\n",
       "      <td>bogo</td>\n",
       "      <td>10</td>\n",
       "    </tr>\n",
       "    <tr>\n",
       "      <th>2</th>\n",
       "      <td>[web, email, mobile]</td>\n",
       "      <td>0</td>\n",
       "      <td>4</td>\n",
       "      <td>3f207df678b143eea3cee63160fa8bed</td>\n",
       "      <td>informational</td>\n",
       "      <td>0</td>\n",
       "    </tr>\n",
       "    <tr>\n",
       "      <th>3</th>\n",
       "      <td>[web, email, mobile]</td>\n",
       "      <td>5</td>\n",
       "      <td>7</td>\n",
       "      <td>9b98b8c7a33c4b65b9aebfe6a799e6d9</td>\n",
       "      <td>bogo</td>\n",
       "      <td>5</td>\n",
       "    </tr>\n",
       "    <tr>\n",
       "      <th>4</th>\n",
       "      <td>[web, email]</td>\n",
       "      <td>20</td>\n",
       "      <td>10</td>\n",
       "      <td>0b1e1539f2cc45b7b9fa7c272da2e1d7</td>\n",
       "      <td>discount</td>\n",
       "      <td>5</td>\n",
       "    </tr>\n",
       "    <tr>\n",
       "      <th>5</th>\n",
       "      <td>[web, email, mobile, social]</td>\n",
       "      <td>7</td>\n",
       "      <td>7</td>\n",
       "      <td>2298d6c36e964ae4a3e7e9706d1fb8c2</td>\n",
       "      <td>discount</td>\n",
       "      <td>3</td>\n",
       "    </tr>\n",
       "    <tr>\n",
       "      <th>6</th>\n",
       "      <td>[web, email, mobile, social]</td>\n",
       "      <td>10</td>\n",
       "      <td>10</td>\n",
       "      <td>fafdcd668e3743c1bb461111dcafc2a4</td>\n",
       "      <td>discount</td>\n",
       "      <td>2</td>\n",
       "    </tr>\n",
       "    <tr>\n",
       "      <th>7</th>\n",
       "      <td>[email, mobile, social]</td>\n",
       "      <td>0</td>\n",
       "      <td>3</td>\n",
       "      <td>5a8bc65990b245e5a138643cd4eb9837</td>\n",
       "      <td>informational</td>\n",
       "      <td>0</td>\n",
       "    </tr>\n",
       "    <tr>\n",
       "      <th>8</th>\n",
       "      <td>[web, email, mobile, social]</td>\n",
       "      <td>5</td>\n",
       "      <td>5</td>\n",
       "      <td>f19421c1d4aa40978ebb69ca19b0e20d</td>\n",
       "      <td>bogo</td>\n",
       "      <td>5</td>\n",
       "    </tr>\n",
       "    <tr>\n",
       "      <th>9</th>\n",
       "      <td>[web, email, mobile]</td>\n",
       "      <td>10</td>\n",
       "      <td>7</td>\n",
       "      <td>2906b810c7d4411798c6938adc9daaa5</td>\n",
       "      <td>discount</td>\n",
       "      <td>2</td>\n",
       "    </tr>\n",
       "  </tbody>\n",
       "</table>\n",
       "</div>"
      ],
      "text/plain": [
       "                       channels  difficulty  duration  \\\n",
       "0       [email, mobile, social]          10         7   \n",
       "1  [web, email, mobile, social]          10         5   \n",
       "2          [web, email, mobile]           0         4   \n",
       "3          [web, email, mobile]           5         7   \n",
       "4                  [web, email]          20        10   \n",
       "5  [web, email, mobile, social]           7         7   \n",
       "6  [web, email, mobile, social]          10        10   \n",
       "7       [email, mobile, social]           0         3   \n",
       "8  [web, email, mobile, social]           5         5   \n",
       "9          [web, email, mobile]          10         7   \n",
       "\n",
       "                                 id     offer_type  reward  \n",
       "0  ae264e3637204a6fb9bb56bc8210ddfd           bogo      10  \n",
       "1  4d5c57ea9a6940dd891ad53e9dbe8da0           bogo      10  \n",
       "2  3f207df678b143eea3cee63160fa8bed  informational       0  \n",
       "3  9b98b8c7a33c4b65b9aebfe6a799e6d9           bogo       5  \n",
       "4  0b1e1539f2cc45b7b9fa7c272da2e1d7       discount       5  \n",
       "5  2298d6c36e964ae4a3e7e9706d1fb8c2       discount       3  \n",
       "6  fafdcd668e3743c1bb461111dcafc2a4       discount       2  \n",
       "7  5a8bc65990b245e5a138643cd4eb9837  informational       0  \n",
       "8  f19421c1d4aa40978ebb69ca19b0e20d           bogo       5  \n",
       "9  2906b810c7d4411798c6938adc9daaa5       discount       2  "
      ]
     },
     "execution_count": 2,
     "metadata": {},
     "output_type": "execute_result"
    }
   ],
   "source": [
    "portfolio.head(10)"
   ]
  },
  {
   "cell_type": "code",
   "execution_count": 3,
   "metadata": {},
   "outputs": [
    {
     "data": {
      "text/plain": [
       "(10, 6)"
      ]
     },
     "execution_count": 3,
     "metadata": {},
     "output_type": "execute_result"
    }
   ],
   "source": [
    "portfolio.shape"
   ]
  },
  {
   "cell_type": "markdown",
   "metadata": {},
   "source": [
    "There are ten rows and six columns in the portfolio dataset. It seems that it is a simple dataset."
   ]
  },
  {
   "cell_type": "code",
   "execution_count": 4,
   "metadata": {},
   "outputs": [
    {
     "name": "stdout",
     "output_type": "stream",
     "text": [
      "<class 'pandas.core.frame.DataFrame'>\n",
      "RangeIndex: 10 entries, 0 to 9\n",
      "Data columns (total 6 columns):\n",
      "channels      10 non-null object\n",
      "difficulty    10 non-null int64\n",
      "duration      10 non-null int64\n",
      "id            10 non-null object\n",
      "offer_type    10 non-null object\n",
      "reward        10 non-null int64\n",
      "dtypes: int64(3), object(3)\n",
      "memory usage: 560.0+ bytes\n"
     ]
    }
   ],
   "source": [
    "portfolio.info()"
   ]
  },
  {
   "cell_type": "markdown",
   "metadata": {},
   "source": [
    "**'channels', 'id', 'offer_type columns'** are categorical items whereas **'difficulty', 'duration', 'reward'** are integer"
   ]
  },
  {
   "cell_type": "code",
   "execution_count": 5,
   "metadata": {},
   "outputs": [],
   "source": [
    "# Rename id column to offer_id\n",
    "portfolio.rename(columns={'id': 'offer_id'}, inplace=True)"
   ]
  },
  {
   "cell_type": "code",
   "execution_count": 6,
   "metadata": {},
   "outputs": [
    {
     "data": {
      "text/plain": [
       "channels      0\n",
       "difficulty    0\n",
       "duration      0\n",
       "offer_id      0\n",
       "offer_type    0\n",
       "reward        0\n",
       "dtype: int64"
      ]
     },
     "execution_count": 6,
     "metadata": {},
     "output_type": "execute_result"
    }
   ],
   "source": [
    "# Check for the null values\n",
    "portfolio.isnull().sum()"
   ]
  },
  {
   "cell_type": "code",
   "execution_count": 7,
   "metadata": {},
   "outputs": [
    {
     "data": {
      "text/plain": [
       "0"
      ]
     },
     "execution_count": 7,
     "metadata": {},
     "output_type": "execute_result"
    }
   ],
   "source": [
    "# checking for duplicates\n",
    "portfolio.columns.duplicated().sum()"
   ]
  },
  {
   "cell_type": "markdown",
   "metadata": {},
   "source": [
    "There is no missing/null or duplicate value in the portfolio dataset"
   ]
  },
  {
   "cell_type": "markdown",
   "metadata": {},
   "source": [
    "Now we can handle the categorical data, lets start with **channel** column."
   ]
  },
  {
   "cell_type": "code",
   "execution_count": 8,
   "metadata": {},
   "outputs": [
    {
     "data": {
      "text/plain": [
       "array(['email', 'mobile', 'social', 'web'], dtype=object)"
      ]
     },
     "execution_count": 8,
     "metadata": {},
     "output_type": "execute_result"
    }
   ],
   "source": [
    "portfolio.channels.apply(pd.Series).stack().unique()"
   ]
  },
  {
   "cell_type": "markdown",
   "metadata": {},
   "source": [
    "The **channels** column consist of a list contaning the channels, **(email, mobile, social, web)**, that the offers are communicated. So, I will be expanding this categorical column."
   ]
  },
  {
   "cell_type": "code",
   "execution_count": 9,
   "metadata": {},
   "outputs": [
    {
     "data": {
      "text/html": [
       "<div>\n",
       "<style scoped>\n",
       "    .dataframe tbody tr th:only-of-type {\n",
       "        vertical-align: middle;\n",
       "    }\n",
       "\n",
       "    .dataframe tbody tr th {\n",
       "        vertical-align: top;\n",
       "    }\n",
       "\n",
       "    .dataframe thead th {\n",
       "        text-align: right;\n",
       "    }\n",
       "</style>\n",
       "<table border=\"1\" class=\"dataframe\">\n",
       "  <thead>\n",
       "    <tr style=\"text-align: right;\">\n",
       "      <th></th>\n",
       "      <th>channels</th>\n",
       "      <th>difficulty</th>\n",
       "      <th>duration</th>\n",
       "      <th>offer_id</th>\n",
       "      <th>offer_type</th>\n",
       "      <th>reward</th>\n",
       "      <th>email</th>\n",
       "      <th>mobile</th>\n",
       "      <th>social</th>\n",
       "      <th>web</th>\n",
       "    </tr>\n",
       "  </thead>\n",
       "  <tbody>\n",
       "    <tr>\n",
       "      <th>0</th>\n",
       "      <td>[email, mobile, social]</td>\n",
       "      <td>10</td>\n",
       "      <td>7</td>\n",
       "      <td>ae264e3637204a6fb9bb56bc8210ddfd</td>\n",
       "      <td>bogo</td>\n",
       "      <td>10</td>\n",
       "      <td>1</td>\n",
       "      <td>1</td>\n",
       "      <td>1</td>\n",
       "      <td>0</td>\n",
       "    </tr>\n",
       "    <tr>\n",
       "      <th>1</th>\n",
       "      <td>[web, email, mobile, social]</td>\n",
       "      <td>10</td>\n",
       "      <td>5</td>\n",
       "      <td>4d5c57ea9a6940dd891ad53e9dbe8da0</td>\n",
       "      <td>bogo</td>\n",
       "      <td>10</td>\n",
       "      <td>1</td>\n",
       "      <td>1</td>\n",
       "      <td>1</td>\n",
       "      <td>1</td>\n",
       "    </tr>\n",
       "    <tr>\n",
       "      <th>2</th>\n",
       "      <td>[web, email, mobile]</td>\n",
       "      <td>0</td>\n",
       "      <td>4</td>\n",
       "      <td>3f207df678b143eea3cee63160fa8bed</td>\n",
       "      <td>informational</td>\n",
       "      <td>0</td>\n",
       "      <td>1</td>\n",
       "      <td>1</td>\n",
       "      <td>0</td>\n",
       "      <td>1</td>\n",
       "    </tr>\n",
       "    <tr>\n",
       "      <th>3</th>\n",
       "      <td>[web, email, mobile]</td>\n",
       "      <td>5</td>\n",
       "      <td>7</td>\n",
       "      <td>9b98b8c7a33c4b65b9aebfe6a799e6d9</td>\n",
       "      <td>bogo</td>\n",
       "      <td>5</td>\n",
       "      <td>1</td>\n",
       "      <td>1</td>\n",
       "      <td>0</td>\n",
       "      <td>1</td>\n",
       "    </tr>\n",
       "    <tr>\n",
       "      <th>4</th>\n",
       "      <td>[web, email]</td>\n",
       "      <td>20</td>\n",
       "      <td>10</td>\n",
       "      <td>0b1e1539f2cc45b7b9fa7c272da2e1d7</td>\n",
       "      <td>discount</td>\n",
       "      <td>5</td>\n",
       "      <td>1</td>\n",
       "      <td>0</td>\n",
       "      <td>0</td>\n",
       "      <td>1</td>\n",
       "    </tr>\n",
       "  </tbody>\n",
       "</table>\n",
       "</div>"
      ],
      "text/plain": [
       "                       channels  difficulty  duration  \\\n",
       "0       [email, mobile, social]          10         7   \n",
       "1  [web, email, mobile, social]          10         5   \n",
       "2          [web, email, mobile]           0         4   \n",
       "3          [web, email, mobile]           5         7   \n",
       "4                  [web, email]          20        10   \n",
       "\n",
       "                           offer_id     offer_type  reward  email  mobile  \\\n",
       "0  ae264e3637204a6fb9bb56bc8210ddfd           bogo      10      1       1   \n",
       "1  4d5c57ea9a6940dd891ad53e9dbe8da0           bogo      10      1       1   \n",
       "2  3f207df678b143eea3cee63160fa8bed  informational       0      1       1   \n",
       "3  9b98b8c7a33c4b65b9aebfe6a799e6d9           bogo       5      1       1   \n",
       "4  0b1e1539f2cc45b7b9fa7c272da2e1d7       discount       5      1       0   \n",
       "\n",
       "   social  web  \n",
       "0       1    0  \n",
       "1       1    1  \n",
       "2       0    1  \n",
       "3       0    1  \n",
       "4       0    1  "
      ]
     },
     "execution_count": 9,
     "metadata": {},
     "output_type": "execute_result"
    }
   ],
   "source": [
    "dummy_channels =  pd.get_dummies(portfolio.channels.apply(pd.Series).stack()).sum(level=0)\n",
    "portfolio = pd.concat([portfolio, dummy_channels], axis=1)\n",
    "portfolio.head()"
   ]
  },
  {
   "cell_type": "markdown",
   "metadata": {},
   "source": [
    "Let's continue with encoding **offer_type** "
   ]
  },
  {
   "cell_type": "code",
   "execution_count": 10,
   "metadata": {},
   "outputs": [
    {
     "data": {
      "text/plain": [
       "array(['bogo', 'informational', 'discount'], dtype=object)"
      ]
     },
     "execution_count": 10,
     "metadata": {},
     "output_type": "execute_result"
    }
   ],
   "source": [
    "portfolio['offer_type'].unique()"
   ]
  },
  {
   "cell_type": "code",
   "execution_count": 11,
   "metadata": {},
   "outputs": [
    {
     "data": {
      "text/html": [
       "<div>\n",
       "<style scoped>\n",
       "    .dataframe tbody tr th:only-of-type {\n",
       "        vertical-align: middle;\n",
       "    }\n",
       "\n",
       "    .dataframe tbody tr th {\n",
       "        vertical-align: top;\n",
       "    }\n",
       "\n",
       "    .dataframe thead th {\n",
       "        text-align: right;\n",
       "    }\n",
       "</style>\n",
       "<table border=\"1\" class=\"dataframe\">\n",
       "  <thead>\n",
       "    <tr style=\"text-align: right;\">\n",
       "      <th></th>\n",
       "      <th>channels</th>\n",
       "      <th>difficulty</th>\n",
       "      <th>duration</th>\n",
       "      <th>offer_id</th>\n",
       "      <th>offer_type</th>\n",
       "      <th>reward</th>\n",
       "      <th>email</th>\n",
       "      <th>mobile</th>\n",
       "      <th>social</th>\n",
       "      <th>web</th>\n",
       "      <th>bogo</th>\n",
       "      <th>discount</th>\n",
       "      <th>informational</th>\n",
       "    </tr>\n",
       "  </thead>\n",
       "  <tbody>\n",
       "    <tr>\n",
       "      <th>0</th>\n",
       "      <td>[email, mobile, social]</td>\n",
       "      <td>10</td>\n",
       "      <td>7</td>\n",
       "      <td>ae264e3637204a6fb9bb56bc8210ddfd</td>\n",
       "      <td>bogo</td>\n",
       "      <td>10</td>\n",
       "      <td>1</td>\n",
       "      <td>1</td>\n",
       "      <td>1</td>\n",
       "      <td>0</td>\n",
       "      <td>1</td>\n",
       "      <td>0</td>\n",
       "      <td>0</td>\n",
       "    </tr>\n",
       "    <tr>\n",
       "      <th>1</th>\n",
       "      <td>[web, email, mobile, social]</td>\n",
       "      <td>10</td>\n",
       "      <td>5</td>\n",
       "      <td>4d5c57ea9a6940dd891ad53e9dbe8da0</td>\n",
       "      <td>bogo</td>\n",
       "      <td>10</td>\n",
       "      <td>1</td>\n",
       "      <td>1</td>\n",
       "      <td>1</td>\n",
       "      <td>1</td>\n",
       "      <td>1</td>\n",
       "      <td>0</td>\n",
       "      <td>0</td>\n",
       "    </tr>\n",
       "    <tr>\n",
       "      <th>2</th>\n",
       "      <td>[web, email, mobile]</td>\n",
       "      <td>0</td>\n",
       "      <td>4</td>\n",
       "      <td>3f207df678b143eea3cee63160fa8bed</td>\n",
       "      <td>informational</td>\n",
       "      <td>0</td>\n",
       "      <td>1</td>\n",
       "      <td>1</td>\n",
       "      <td>0</td>\n",
       "      <td>1</td>\n",
       "      <td>0</td>\n",
       "      <td>0</td>\n",
       "      <td>1</td>\n",
       "    </tr>\n",
       "    <tr>\n",
       "      <th>3</th>\n",
       "      <td>[web, email, mobile]</td>\n",
       "      <td>5</td>\n",
       "      <td>7</td>\n",
       "      <td>9b98b8c7a33c4b65b9aebfe6a799e6d9</td>\n",
       "      <td>bogo</td>\n",
       "      <td>5</td>\n",
       "      <td>1</td>\n",
       "      <td>1</td>\n",
       "      <td>0</td>\n",
       "      <td>1</td>\n",
       "      <td>1</td>\n",
       "      <td>0</td>\n",
       "      <td>0</td>\n",
       "    </tr>\n",
       "    <tr>\n",
       "      <th>4</th>\n",
       "      <td>[web, email]</td>\n",
       "      <td>20</td>\n",
       "      <td>10</td>\n",
       "      <td>0b1e1539f2cc45b7b9fa7c272da2e1d7</td>\n",
       "      <td>discount</td>\n",
       "      <td>5</td>\n",
       "      <td>1</td>\n",
       "      <td>0</td>\n",
       "      <td>0</td>\n",
       "      <td>1</td>\n",
       "      <td>0</td>\n",
       "      <td>1</td>\n",
       "      <td>0</td>\n",
       "    </tr>\n",
       "    <tr>\n",
       "      <th>5</th>\n",
       "      <td>[web, email, mobile, social]</td>\n",
       "      <td>7</td>\n",
       "      <td>7</td>\n",
       "      <td>2298d6c36e964ae4a3e7e9706d1fb8c2</td>\n",
       "      <td>discount</td>\n",
       "      <td>3</td>\n",
       "      <td>1</td>\n",
       "      <td>1</td>\n",
       "      <td>1</td>\n",
       "      <td>1</td>\n",
       "      <td>0</td>\n",
       "      <td>1</td>\n",
       "      <td>0</td>\n",
       "    </tr>\n",
       "    <tr>\n",
       "      <th>6</th>\n",
       "      <td>[web, email, mobile, social]</td>\n",
       "      <td>10</td>\n",
       "      <td>10</td>\n",
       "      <td>fafdcd668e3743c1bb461111dcafc2a4</td>\n",
       "      <td>discount</td>\n",
       "      <td>2</td>\n",
       "      <td>1</td>\n",
       "      <td>1</td>\n",
       "      <td>1</td>\n",
       "      <td>1</td>\n",
       "      <td>0</td>\n",
       "      <td>1</td>\n",
       "      <td>0</td>\n",
       "    </tr>\n",
       "    <tr>\n",
       "      <th>7</th>\n",
       "      <td>[email, mobile, social]</td>\n",
       "      <td>0</td>\n",
       "      <td>3</td>\n",
       "      <td>5a8bc65990b245e5a138643cd4eb9837</td>\n",
       "      <td>informational</td>\n",
       "      <td>0</td>\n",
       "      <td>1</td>\n",
       "      <td>1</td>\n",
       "      <td>1</td>\n",
       "      <td>0</td>\n",
       "      <td>0</td>\n",
       "      <td>0</td>\n",
       "      <td>1</td>\n",
       "    </tr>\n",
       "    <tr>\n",
       "      <th>8</th>\n",
       "      <td>[web, email, mobile, social]</td>\n",
       "      <td>5</td>\n",
       "      <td>5</td>\n",
       "      <td>f19421c1d4aa40978ebb69ca19b0e20d</td>\n",
       "      <td>bogo</td>\n",
       "      <td>5</td>\n",
       "      <td>1</td>\n",
       "      <td>1</td>\n",
       "      <td>1</td>\n",
       "      <td>1</td>\n",
       "      <td>1</td>\n",
       "      <td>0</td>\n",
       "      <td>0</td>\n",
       "    </tr>\n",
       "    <tr>\n",
       "      <th>9</th>\n",
       "      <td>[web, email, mobile]</td>\n",
       "      <td>10</td>\n",
       "      <td>7</td>\n",
       "      <td>2906b810c7d4411798c6938adc9daaa5</td>\n",
       "      <td>discount</td>\n",
       "      <td>2</td>\n",
       "      <td>1</td>\n",
       "      <td>1</td>\n",
       "      <td>0</td>\n",
       "      <td>1</td>\n",
       "      <td>0</td>\n",
       "      <td>1</td>\n",
       "      <td>0</td>\n",
       "    </tr>\n",
       "  </tbody>\n",
       "</table>\n",
       "</div>"
      ],
      "text/plain": [
       "                       channels  difficulty  duration  \\\n",
       "0       [email, mobile, social]          10         7   \n",
       "1  [web, email, mobile, social]          10         5   \n",
       "2          [web, email, mobile]           0         4   \n",
       "3          [web, email, mobile]           5         7   \n",
       "4                  [web, email]          20        10   \n",
       "5  [web, email, mobile, social]           7         7   \n",
       "6  [web, email, mobile, social]          10        10   \n",
       "7       [email, mobile, social]           0         3   \n",
       "8  [web, email, mobile, social]           5         5   \n",
       "9          [web, email, mobile]          10         7   \n",
       "\n",
       "                           offer_id     offer_type  reward  email  mobile  \\\n",
       "0  ae264e3637204a6fb9bb56bc8210ddfd           bogo      10      1       1   \n",
       "1  4d5c57ea9a6940dd891ad53e9dbe8da0           bogo      10      1       1   \n",
       "2  3f207df678b143eea3cee63160fa8bed  informational       0      1       1   \n",
       "3  9b98b8c7a33c4b65b9aebfe6a799e6d9           bogo       5      1       1   \n",
       "4  0b1e1539f2cc45b7b9fa7c272da2e1d7       discount       5      1       0   \n",
       "5  2298d6c36e964ae4a3e7e9706d1fb8c2       discount       3      1       1   \n",
       "6  fafdcd668e3743c1bb461111dcafc2a4       discount       2      1       1   \n",
       "7  5a8bc65990b245e5a138643cd4eb9837  informational       0      1       1   \n",
       "8  f19421c1d4aa40978ebb69ca19b0e20d           bogo       5      1       1   \n",
       "9  2906b810c7d4411798c6938adc9daaa5       discount       2      1       1   \n",
       "\n",
       "   social  web  bogo  discount  informational  \n",
       "0       1    0     1         0              0  \n",
       "1       1    1     1         0              0  \n",
       "2       0    1     0         0              1  \n",
       "3       0    1     1         0              0  \n",
       "4       0    1     0         1              0  \n",
       "5       1    1     0         1              0  \n",
       "6       1    1     0         1              0  \n",
       "7       1    0     0         0              1  \n",
       "8       1    1     1         0              0  \n",
       "9       0    1     0         1              0  "
      ]
     },
     "execution_count": 11,
     "metadata": {},
     "output_type": "execute_result"
    }
   ],
   "source": [
    "# clean offer types\n",
    "offer_types = pd.get_dummies(portfolio.offer_type)\n",
    "portfolio = pd.concat([portfolio, offer_types], axis=1)\n",
    "portfolio.head(15)\n"
   ]
  },
  {
   "cell_type": "markdown",
   "metadata": {},
   "source": [
    "#### 1.2.Highligths and Observations\n",
    "**portfolio dataset** is a simple dataset with 10 rows, 6 columns & no missing and duplicate values. **channels**, **offer_types** categorical values are encoded and values are stored in new columns for later use as shown above.\n",
    "\n",
    "There are three types of offers : 'bogo'(Buy One Get One free), 'informational' and 'discount'.\n",
    "There are 4 offers included in the dataset that are classified as : “bogo“ , 4 offers classified as : ”discount” and 2 offers classified as : “informational”.\n",
    "\n",
    "The 'difficulty' is minimum required spend to complete an offer. Rescaling this feature is a useful step to do. This needs to be done before Modeling."
   ]
  },
  {
   "cell_type": "code",
   "execution_count": 12,
   "metadata": {},
   "outputs": [],
   "source": [
    "# Save the prosessed portfolio dataset\n",
    "portfolio.to_csv('data/portfolio.csv', index = False)"
   ]
  },
  {
   "cell_type": "markdown",
   "metadata": {},
   "source": [
    "### 2.Profile Dataset\n",
    "Demographic data for customers is provided in the **profile** dataset. The schema and variables are as follows:\n",
    "\n",
    "**profile.json**\n",
    "* age (int) - age of the customer \n",
    "* became_member_on (int) - date when customer created an app account\n",
    "* gender (str) - gender of the customer (note some entries contain 'O' for other rather than M or F)\n",
    "* id (str) - customer id\n",
    "* income (float) - customer's income\n",
    "\n",
    "#### 2.1.Data Exploration (Profile)"
   ]
  },
  {
   "cell_type": "code",
   "execution_count": 13,
   "metadata": {
    "scrolled": true
   },
   "outputs": [
    {
     "data": {
      "text/html": [
       "<div>\n",
       "<style scoped>\n",
       "    .dataframe tbody tr th:only-of-type {\n",
       "        vertical-align: middle;\n",
       "    }\n",
       "\n",
       "    .dataframe tbody tr th {\n",
       "        vertical-align: top;\n",
       "    }\n",
       "\n",
       "    .dataframe thead th {\n",
       "        text-align: right;\n",
       "    }\n",
       "</style>\n",
       "<table border=\"1\" class=\"dataframe\">\n",
       "  <thead>\n",
       "    <tr style=\"text-align: right;\">\n",
       "      <th></th>\n",
       "      <th>age</th>\n",
       "      <th>became_member_on</th>\n",
       "      <th>gender</th>\n",
       "      <th>id</th>\n",
       "      <th>income</th>\n",
       "    </tr>\n",
       "  </thead>\n",
       "  <tbody>\n",
       "    <tr>\n",
       "      <th>0</th>\n",
       "      <td>118</td>\n",
       "      <td>20170212</td>\n",
       "      <td>None</td>\n",
       "      <td>68be06ca386d4c31939f3a4f0e3dd783</td>\n",
       "      <td>NaN</td>\n",
       "    </tr>\n",
       "    <tr>\n",
       "      <th>1</th>\n",
       "      <td>55</td>\n",
       "      <td>20170715</td>\n",
       "      <td>F</td>\n",
       "      <td>0610b486422d4921ae7d2bf64640c50b</td>\n",
       "      <td>112000.0</td>\n",
       "    </tr>\n",
       "    <tr>\n",
       "      <th>2</th>\n",
       "      <td>118</td>\n",
       "      <td>20180712</td>\n",
       "      <td>None</td>\n",
       "      <td>38fe809add3b4fcf9315a9694bb96ff5</td>\n",
       "      <td>NaN</td>\n",
       "    </tr>\n",
       "    <tr>\n",
       "      <th>3</th>\n",
       "      <td>75</td>\n",
       "      <td>20170509</td>\n",
       "      <td>F</td>\n",
       "      <td>78afa995795e4d85b5d9ceeca43f5fef</td>\n",
       "      <td>100000.0</td>\n",
       "    </tr>\n",
       "    <tr>\n",
       "      <th>4</th>\n",
       "      <td>118</td>\n",
       "      <td>20170804</td>\n",
       "      <td>None</td>\n",
       "      <td>a03223e636434f42ac4c3df47e8bac43</td>\n",
       "      <td>NaN</td>\n",
       "    </tr>\n",
       "  </tbody>\n",
       "</table>\n",
       "</div>"
      ],
      "text/plain": [
       "   age  became_member_on gender                                id    income\n",
       "0  118          20170212   None  68be06ca386d4c31939f3a4f0e3dd783       NaN\n",
       "1   55          20170715      F  0610b486422d4921ae7d2bf64640c50b  112000.0\n",
       "2  118          20180712   None  38fe809add3b4fcf9315a9694bb96ff5       NaN\n",
       "3   75          20170509      F  78afa995795e4d85b5d9ceeca43f5fef  100000.0\n",
       "4  118          20170804   None  a03223e636434f42ac4c3df47e8bac43       NaN"
      ]
     },
     "execution_count": 13,
     "metadata": {},
     "output_type": "execute_result"
    }
   ],
   "source": [
    "profile.head()"
   ]
  },
  {
   "cell_type": "code",
   "execution_count": 14,
   "metadata": {},
   "outputs": [
    {
     "data": {
      "text/plain": [
       "(17000, 5)"
      ]
     },
     "execution_count": 14,
     "metadata": {},
     "output_type": "execute_result"
    }
   ],
   "source": [
    "profile.shape"
   ]
  },
  {
   "cell_type": "markdown",
   "metadata": {},
   "source": [
    "There are 17000 rows and 5 cloumns in the dataset."
   ]
  },
  {
   "cell_type": "code",
   "execution_count": 15,
   "metadata": {},
   "outputs": [
    {
     "name": "stdout",
     "output_type": "stream",
     "text": [
      "<class 'pandas.core.frame.DataFrame'>\n",
      "RangeIndex: 17000 entries, 0 to 16999\n",
      "Data columns (total 5 columns):\n",
      "age                 17000 non-null int64\n",
      "became_member_on    17000 non-null int64\n",
      "gender              14825 non-null object\n",
      "id                  17000 non-null object\n",
      "income              14825 non-null float64\n",
      "dtypes: float64(1), int64(2), object(2)\n",
      "memory usage: 664.1+ KB\n"
     ]
    }
   ],
   "source": [
    "profile.info()"
   ]
  },
  {
   "cell_type": "markdown",
   "metadata": {},
   "source": [
    "**id** and **gender** have object data type whereas **age, became_member_on** and **income** columns are numerical. We may need to handle the **become_member_on** and **gender**."
   ]
  },
  {
   "cell_type": "code",
   "execution_count": 16,
   "metadata": {},
   "outputs": [
    {
     "data": {
      "text/plain": [
       "age                    0\n",
       "became_member_on       0\n",
       "gender              2175\n",
       "id                     0\n",
       "income              2175\n",
       "dtype: int64"
      ]
     },
     "execution_count": 16,
     "metadata": {},
     "output_type": "execute_result"
    }
   ],
   "source": [
    "profile.isnull().sum()"
   ]
  },
  {
   "cell_type": "markdown",
   "metadata": {},
   "source": [
    "There are 2175 null items both in **gender** and **income** columns. Lets check whether or not they belong to the same row."
   ]
  },
  {
   "cell_type": "code",
   "execution_count": 17,
   "metadata": {},
   "outputs": [
    {
     "data": {
      "text/html": [
       "<div>\n",
       "<style scoped>\n",
       "    .dataframe tbody tr th:only-of-type {\n",
       "        vertical-align: middle;\n",
       "    }\n",
       "\n",
       "    .dataframe tbody tr th {\n",
       "        vertical-align: top;\n",
       "    }\n",
       "\n",
       "    .dataframe thead th {\n",
       "        text-align: right;\n",
       "    }\n",
       "</style>\n",
       "<table border=\"1\" class=\"dataframe\">\n",
       "  <thead>\n",
       "    <tr style=\"text-align: right;\">\n",
       "      <th></th>\n",
       "      <th>gender</th>\n",
       "      <th>age</th>\n",
       "      <th>income</th>\n",
       "    </tr>\n",
       "  </thead>\n",
       "  <tbody>\n",
       "    <tr>\n",
       "      <th>0</th>\n",
       "      <td>None</td>\n",
       "      <td>118</td>\n",
       "      <td>NaN</td>\n",
       "    </tr>\n",
       "    <tr>\n",
       "      <th>2</th>\n",
       "      <td>None</td>\n",
       "      <td>118</td>\n",
       "      <td>NaN</td>\n",
       "    </tr>\n",
       "    <tr>\n",
       "      <th>4</th>\n",
       "      <td>None</td>\n",
       "      <td>118</td>\n",
       "      <td>NaN</td>\n",
       "    </tr>\n",
       "    <tr>\n",
       "      <th>6</th>\n",
       "      <td>None</td>\n",
       "      <td>118</td>\n",
       "      <td>NaN</td>\n",
       "    </tr>\n",
       "    <tr>\n",
       "      <th>7</th>\n",
       "      <td>None</td>\n",
       "      <td>118</td>\n",
       "      <td>NaN</td>\n",
       "    </tr>\n",
       "    <tr>\n",
       "      <th>9</th>\n",
       "      <td>None</td>\n",
       "      <td>118</td>\n",
       "      <td>NaN</td>\n",
       "    </tr>\n",
       "    <tr>\n",
       "      <th>10</th>\n",
       "      <td>None</td>\n",
       "      <td>118</td>\n",
       "      <td>NaN</td>\n",
       "    </tr>\n",
       "    <tr>\n",
       "      <th>11</th>\n",
       "      <td>None</td>\n",
       "      <td>118</td>\n",
       "      <td>NaN</td>\n",
       "    </tr>\n",
       "    <tr>\n",
       "      <th>17</th>\n",
       "      <td>None</td>\n",
       "      <td>118</td>\n",
       "      <td>NaN</td>\n",
       "    </tr>\n",
       "    <tr>\n",
       "      <th>23</th>\n",
       "      <td>None</td>\n",
       "      <td>118</td>\n",
       "      <td>NaN</td>\n",
       "    </tr>\n",
       "  </tbody>\n",
       "</table>\n",
       "</div>"
      ],
      "text/plain": [
       "   gender  age  income\n",
       "0    None  118     NaN\n",
       "2    None  118     NaN\n",
       "4    None  118     NaN\n",
       "6    None  118     NaN\n",
       "7    None  118     NaN\n",
       "9    None  118     NaN\n",
       "10   None  118     NaN\n",
       "11   None  118     NaN\n",
       "17   None  118     NaN\n",
       "23   None  118     NaN"
      ]
     },
     "execution_count": 17,
     "metadata": {},
     "output_type": "execute_result"
    }
   ],
   "source": [
    "profile[profile.gender.isnull()][['gender','age','income']].head(10)\n"
   ]
  },
  {
   "cell_type": "markdown",
   "metadata": {},
   "source": [
    "It seems that **gender** and **income** is null at the same time for all the 2175 rows. Age value is also 118 on these rows. "
   ]
  },
  {
   "cell_type": "markdown",
   "metadata": {},
   "source": [
    "Let's remove 2175 rows with null values."
   ]
  },
  {
   "cell_type": "code",
   "execution_count": 18,
   "metadata": {},
   "outputs": [],
   "source": [
    "profile = profile.dropna(how='any',axis=0)"
   ]
  },
  {
   "cell_type": "code",
   "execution_count": 19,
   "metadata": {},
   "outputs": [
    {
     "data": {
      "text/plain": [
       "age                 0\n",
       "became_member_on    0\n",
       "gender              0\n",
       "id                  0\n",
       "income              0\n",
       "dtype: int64"
      ]
     },
     "execution_count": 19,
     "metadata": {},
     "output_type": "execute_result"
    }
   ],
   "source": [
    "profile.isnull().sum()"
   ]
  },
  {
   "cell_type": "code",
   "execution_count": 20,
   "metadata": {},
   "outputs": [
    {
     "data": {
      "text/plain": [
       "0"
      ]
     },
     "execution_count": 20,
     "metadata": {},
     "output_type": "execute_result"
    }
   ],
   "source": [
    "profile.duplicated().sum()"
   ]
  },
  {
   "cell_type": "markdown",
   "metadata": {},
   "source": [
    "There is no duplicate rows and null values in the dataset."
   ]
  },
  {
   "cell_type": "code",
   "execution_count": 38,
   "metadata": {},
   "outputs": [],
   "source": [
    "# Rename id column to customer_id (unification with person column in Transcript dataset)\n",
    "profile.rename(columns={'id': 'customer_id'}, inplace=True)"
   ]
  },
  {
   "cell_type": "markdown",
   "metadata": {},
   "source": [
    "Let's transform the **gender** column:"
   ]
  },
  {
   "cell_type": "code",
   "execution_count": 21,
   "metadata": {},
   "outputs": [],
   "source": [
    "profile = pd.concat([profile, pd.get_dummies(profile['gender'], prefix='gender')], axis=1)"
   ]
  },
  {
   "cell_type": "code",
   "execution_count": 22,
   "metadata": {},
   "outputs": [
    {
     "data": {
      "text/html": [
       "<div>\n",
       "<style scoped>\n",
       "    .dataframe tbody tr th:only-of-type {\n",
       "        vertical-align: middle;\n",
       "    }\n",
       "\n",
       "    .dataframe tbody tr th {\n",
       "        vertical-align: top;\n",
       "    }\n",
       "\n",
       "    .dataframe thead th {\n",
       "        text-align: right;\n",
       "    }\n",
       "</style>\n",
       "<table border=\"1\" class=\"dataframe\">\n",
       "  <thead>\n",
       "    <tr style=\"text-align: right;\">\n",
       "      <th></th>\n",
       "      <th>age</th>\n",
       "      <th>became_member_on</th>\n",
       "      <th>gender</th>\n",
       "      <th>id</th>\n",
       "      <th>income</th>\n",
       "      <th>gender_F</th>\n",
       "      <th>gender_M</th>\n",
       "      <th>gender_O</th>\n",
       "    </tr>\n",
       "  </thead>\n",
       "  <tbody>\n",
       "    <tr>\n",
       "      <th>1</th>\n",
       "      <td>55</td>\n",
       "      <td>20170715</td>\n",
       "      <td>F</td>\n",
       "      <td>0610b486422d4921ae7d2bf64640c50b</td>\n",
       "      <td>112000.0</td>\n",
       "      <td>1</td>\n",
       "      <td>0</td>\n",
       "      <td>0</td>\n",
       "    </tr>\n",
       "    <tr>\n",
       "      <th>3</th>\n",
       "      <td>75</td>\n",
       "      <td>20170509</td>\n",
       "      <td>F</td>\n",
       "      <td>78afa995795e4d85b5d9ceeca43f5fef</td>\n",
       "      <td>100000.0</td>\n",
       "      <td>1</td>\n",
       "      <td>0</td>\n",
       "      <td>0</td>\n",
       "    </tr>\n",
       "    <tr>\n",
       "      <th>5</th>\n",
       "      <td>68</td>\n",
       "      <td>20180426</td>\n",
       "      <td>M</td>\n",
       "      <td>e2127556f4f64592b11af22de27a7932</td>\n",
       "      <td>70000.0</td>\n",
       "      <td>0</td>\n",
       "      <td>1</td>\n",
       "      <td>0</td>\n",
       "    </tr>\n",
       "    <tr>\n",
       "      <th>8</th>\n",
       "      <td>65</td>\n",
       "      <td>20180209</td>\n",
       "      <td>M</td>\n",
       "      <td>389bc3fa690240e798340f5a15918d5c</td>\n",
       "      <td>53000.0</td>\n",
       "      <td>0</td>\n",
       "      <td>1</td>\n",
       "      <td>0</td>\n",
       "    </tr>\n",
       "    <tr>\n",
       "      <th>12</th>\n",
       "      <td>58</td>\n",
       "      <td>20171111</td>\n",
       "      <td>M</td>\n",
       "      <td>2eeac8d8feae4a8cad5a6af0499a211d</td>\n",
       "      <td>51000.0</td>\n",
       "      <td>0</td>\n",
       "      <td>1</td>\n",
       "      <td>0</td>\n",
       "    </tr>\n",
       "  </tbody>\n",
       "</table>\n",
       "</div>"
      ],
      "text/plain": [
       "    age  became_member_on gender                                id    income  \\\n",
       "1    55          20170715      F  0610b486422d4921ae7d2bf64640c50b  112000.0   \n",
       "3    75          20170509      F  78afa995795e4d85b5d9ceeca43f5fef  100000.0   \n",
       "5    68          20180426      M  e2127556f4f64592b11af22de27a7932   70000.0   \n",
       "8    65          20180209      M  389bc3fa690240e798340f5a15918d5c   53000.0   \n",
       "12   58          20171111      M  2eeac8d8feae4a8cad5a6af0499a211d   51000.0   \n",
       "\n",
       "    gender_F  gender_M  gender_O  \n",
       "1          1         0         0  \n",
       "3          1         0         0  \n",
       "5          0         1         0  \n",
       "8          0         1         0  \n",
       "12         0         1         0  "
      ]
     },
     "execution_count": 22,
     "metadata": {},
     "output_type": "execute_result"
    }
   ],
   "source": [
    "profile.head()"
   ]
  },
  {
   "cell_type": "markdown",
   "metadata": {},
   "source": [
    "Let's transform the **age** column:"
   ]
  },
  {
   "cell_type": "code",
   "execution_count": 26,
   "metadata": {},
   "outputs": [],
   "source": [
    "# changing the datatype of 'age' and 'income' columns to 'int'\n",
    "profile[['age','income']] = profile[['age','income']].astype(int)"
   ]
  },
  {
   "cell_type": "code",
   "execution_count": 27,
   "metadata": {},
   "outputs": [],
   "source": [
    "# creating a new column representing the age group to which the customer belongs \n",
    "profile['age_group'] = pd.cut(profile['age'], bins=[17, 25, 40, 60, 110],labels=['teenager', 'young-adult', 'adult', 'elderly'])"
   ]
  },
  {
   "cell_type": "code",
   "execution_count": 28,
   "metadata": {},
   "outputs": [
    {
     "data": {
      "text/plain": [
       "1       adult\n",
       "3     elderly\n",
       "5     elderly\n",
       "8     elderly\n",
       "12      adult\n",
       "Name: age_group, dtype: category\n",
       "Categories (4, object): [teenager < young-adult < adult < elderly]"
      ]
     },
     "execution_count": 28,
     "metadata": {},
     "output_type": "execute_result"
    }
   ],
   "source": [
    "# checking the unique values in the newely created column\n",
    "profile['age_group'].head()"
   ]
  },
  {
   "cell_type": "code",
   "execution_count": 29,
   "metadata": {},
   "outputs": [
    {
     "data": {
      "text/plain": [
       "1     3\n",
       "3     4\n",
       "5     4\n",
       "8     4\n",
       "12    3\n",
       "Name: age_group, dtype: int64"
      ]
     },
     "execution_count": 29,
     "metadata": {},
     "output_type": "execute_result"
    }
   ],
   "source": [
    "# replacing the 'age_group' categorical labels by numerical labels\n",
    "labels_age_group = profile['age_group'].astype('category').cat.categories.tolist()\n",
    "replace_map_comp_age_group = {'age_group' : {k: v for k,v in zip(labels_age_group,list(range(1,len(labels_age_group)+1)))}}\n",
    "\n",
    "# replace categorical labels in 'age_group' column with numerical labels\n",
    "profile.replace(replace_map_comp_age_group, inplace=True)\n",
    "\n",
    "# confirming that the replacement has been correctly performed \n",
    "profile['age_group'].head()"
   ]
  },
  {
   "cell_type": "markdown",
   "metadata": {},
   "source": [
    "Let's transform the **income** column:"
   ]
  },
  {
   "cell_type": "code",
   "execution_count": 31,
   "metadata": {},
   "outputs": [
    {
     "data": {
      "text/html": [
       "<div>\n",
       "<style scoped>\n",
       "    .dataframe tbody tr th:only-of-type {\n",
       "        vertical-align: middle;\n",
       "    }\n",
       "\n",
       "    .dataframe tbody tr th {\n",
       "        vertical-align: top;\n",
       "    }\n",
       "\n",
       "    .dataframe thead th {\n",
       "        text-align: right;\n",
       "    }\n",
       "</style>\n",
       "<table border=\"1\" class=\"dataframe\">\n",
       "  <thead>\n",
       "    <tr style=\"text-align: right;\">\n",
       "      <th></th>\n",
       "      <th>age</th>\n",
       "      <th>became_member_on</th>\n",
       "      <th>gender</th>\n",
       "      <th>id</th>\n",
       "      <th>income</th>\n",
       "      <th>gender_F</th>\n",
       "      <th>gender_M</th>\n",
       "      <th>gender_O</th>\n",
       "      <th>age_group</th>\n",
       "      <th>income_range</th>\n",
       "    </tr>\n",
       "  </thead>\n",
       "  <tbody>\n",
       "    <tr>\n",
       "      <th>1</th>\n",
       "      <td>55</td>\n",
       "      <td>20170715</td>\n",
       "      <td>F</td>\n",
       "      <td>0610b486422d4921ae7d2bf64640c50b</td>\n",
       "      <td>112000</td>\n",
       "      <td>1</td>\n",
       "      <td>0</td>\n",
       "      <td>0</td>\n",
       "      <td>3</td>\n",
       "      <td>3</td>\n",
       "    </tr>\n",
       "    <tr>\n",
       "      <th>3</th>\n",
       "      <td>75</td>\n",
       "      <td>20170509</td>\n",
       "      <td>F</td>\n",
       "      <td>78afa995795e4d85b5d9ceeca43f5fef</td>\n",
       "      <td>100000</td>\n",
       "      <td>1</td>\n",
       "      <td>0</td>\n",
       "      <td>0</td>\n",
       "      <td>4</td>\n",
       "      <td>3</td>\n",
       "    </tr>\n",
       "    <tr>\n",
       "      <th>5</th>\n",
       "      <td>68</td>\n",
       "      <td>20180426</td>\n",
       "      <td>M</td>\n",
       "      <td>e2127556f4f64592b11af22de27a7932</td>\n",
       "      <td>70000</td>\n",
       "      <td>0</td>\n",
       "      <td>1</td>\n",
       "      <td>0</td>\n",
       "      <td>4</td>\n",
       "      <td>2</td>\n",
       "    </tr>\n",
       "    <tr>\n",
       "      <th>8</th>\n",
       "      <td>65</td>\n",
       "      <td>20180209</td>\n",
       "      <td>M</td>\n",
       "      <td>389bc3fa690240e798340f5a15918d5c</td>\n",
       "      <td>53000</td>\n",
       "      <td>0</td>\n",
       "      <td>1</td>\n",
       "      <td>0</td>\n",
       "      <td>4</td>\n",
       "      <td>1</td>\n",
       "    </tr>\n",
       "    <tr>\n",
       "      <th>12</th>\n",
       "      <td>58</td>\n",
       "      <td>20171111</td>\n",
       "      <td>M</td>\n",
       "      <td>2eeac8d8feae4a8cad5a6af0499a211d</td>\n",
       "      <td>51000</td>\n",
       "      <td>0</td>\n",
       "      <td>1</td>\n",
       "      <td>0</td>\n",
       "      <td>3</td>\n",
       "      <td>1</td>\n",
       "    </tr>\n",
       "  </tbody>\n",
       "</table>\n",
       "</div>"
      ],
      "text/plain": [
       "    age  became_member_on gender                                id  income  \\\n",
       "1    55          20170715      F  0610b486422d4921ae7d2bf64640c50b  112000   \n",
       "3    75          20170509      F  78afa995795e4d85b5d9ceeca43f5fef  100000   \n",
       "5    68          20180426      M  e2127556f4f64592b11af22de27a7932   70000   \n",
       "8    65          20180209      M  389bc3fa690240e798340f5a15918d5c   53000   \n",
       "12   58          20171111      M  2eeac8d8feae4a8cad5a6af0499a211d   51000   \n",
       "\n",
       "    gender_F  gender_M  gender_O  age_group  income_range  \n",
       "1          1         0         0          3             3  \n",
       "3          1         0         0          4             3  \n",
       "5          0         1         0          4             2  \n",
       "8          0         1         0          4             1  \n",
       "12         0         1         0          3             1  "
      ]
     },
     "execution_count": 31,
     "metadata": {},
     "output_type": "execute_result"
    }
   ],
   "source": [
    "# creating a new column representing the age group to which the customer belongs \n",
    "profile['income_range'] = pd.cut(profile['income'], bins=[29999, 60000, 90000, 120001],labels=['average', 'above-average', 'high'])\n",
    "\n",
    "# replacing the 'income_range' categorical labels by numerical labels\n",
    "labels_income_range = profile['income_range'].astype('category').cat.categories.tolist()\n",
    "replace_map_comp_income_range = {'income_range' : {k: v for k,v in zip(labels_income_range,list(range(1,len(labels_income_range)+1)))}}\n",
    "\n",
    "# replacing categorical labels in 'income_range' column with numerical labels\n",
    "profile.replace(replace_map_comp_income_range, inplace=True)\n",
    "profile.head()"
   ]
  },
  {
   "cell_type": "markdown",
   "metadata": {},
   "source": [
    "Let's transform the **became_member_on** column from string to date"
   ]
  },
  {
   "cell_type": "code",
   "execution_count": 32,
   "metadata": {},
   "outputs": [],
   "source": [
    "profile['became_member_on'] = pd.to_datetime(profile['became_member_on'], format='%Y%m%d')"
   ]
  },
  {
   "cell_type": "code",
   "execution_count": 33,
   "metadata": {},
   "outputs": [
    {
     "data": {
      "text/html": [
       "<div>\n",
       "<style scoped>\n",
       "    .dataframe tbody tr th:only-of-type {\n",
       "        vertical-align: middle;\n",
       "    }\n",
       "\n",
       "    .dataframe tbody tr th {\n",
       "        vertical-align: top;\n",
       "    }\n",
       "\n",
       "    .dataframe thead th {\n",
       "        text-align: right;\n",
       "    }\n",
       "</style>\n",
       "<table border=\"1\" class=\"dataframe\">\n",
       "  <thead>\n",
       "    <tr style=\"text-align: right;\">\n",
       "      <th></th>\n",
       "      <th>age</th>\n",
       "      <th>became_member_on</th>\n",
       "      <th>gender</th>\n",
       "      <th>id</th>\n",
       "      <th>income</th>\n",
       "      <th>gender_F</th>\n",
       "      <th>gender_M</th>\n",
       "      <th>gender_O</th>\n",
       "      <th>age_group</th>\n",
       "      <th>income_range</th>\n",
       "      <th>year_joined</th>\n",
       "      <th>membership_days</th>\n",
       "    </tr>\n",
       "  </thead>\n",
       "  <tbody>\n",
       "    <tr>\n",
       "      <th>1</th>\n",
       "      <td>55</td>\n",
       "      <td>2017-07-15</td>\n",
       "      <td>F</td>\n",
       "      <td>0610b486422d4921ae7d2bf64640c50b</td>\n",
       "      <td>112000</td>\n",
       "      <td>1</td>\n",
       "      <td>0</td>\n",
       "      <td>0</td>\n",
       "      <td>3</td>\n",
       "      <td>3</td>\n",
       "      <td>2017</td>\n",
       "      <td>642</td>\n",
       "    </tr>\n",
       "    <tr>\n",
       "      <th>3</th>\n",
       "      <td>75</td>\n",
       "      <td>2017-05-09</td>\n",
       "      <td>F</td>\n",
       "      <td>78afa995795e4d85b5d9ceeca43f5fef</td>\n",
       "      <td>100000</td>\n",
       "      <td>1</td>\n",
       "      <td>0</td>\n",
       "      <td>0</td>\n",
       "      <td>4</td>\n",
       "      <td>3</td>\n",
       "      <td>2017</td>\n",
       "      <td>709</td>\n",
       "    </tr>\n",
       "    <tr>\n",
       "      <th>5</th>\n",
       "      <td>68</td>\n",
       "      <td>2018-04-26</td>\n",
       "      <td>M</td>\n",
       "      <td>e2127556f4f64592b11af22de27a7932</td>\n",
       "      <td>70000</td>\n",
       "      <td>0</td>\n",
       "      <td>1</td>\n",
       "      <td>0</td>\n",
       "      <td>4</td>\n",
       "      <td>2</td>\n",
       "      <td>2018</td>\n",
       "      <td>357</td>\n",
       "    </tr>\n",
       "    <tr>\n",
       "      <th>8</th>\n",
       "      <td>65</td>\n",
       "      <td>2018-02-09</td>\n",
       "      <td>M</td>\n",
       "      <td>389bc3fa690240e798340f5a15918d5c</td>\n",
       "      <td>53000</td>\n",
       "      <td>0</td>\n",
       "      <td>1</td>\n",
       "      <td>0</td>\n",
       "      <td>4</td>\n",
       "      <td>1</td>\n",
       "      <td>2018</td>\n",
       "      <td>433</td>\n",
       "    </tr>\n",
       "    <tr>\n",
       "      <th>12</th>\n",
       "      <td>58</td>\n",
       "      <td>2017-11-11</td>\n",
       "      <td>M</td>\n",
       "      <td>2eeac8d8feae4a8cad5a6af0499a211d</td>\n",
       "      <td>51000</td>\n",
       "      <td>0</td>\n",
       "      <td>1</td>\n",
       "      <td>0</td>\n",
       "      <td>3</td>\n",
       "      <td>1</td>\n",
       "      <td>2017</td>\n",
       "      <td>523</td>\n",
       "    </tr>\n",
       "  </tbody>\n",
       "</table>\n",
       "</div>"
      ],
      "text/plain": [
       "    age became_member_on gender                                id  income  \\\n",
       "1    55       2017-07-15      F  0610b486422d4921ae7d2bf64640c50b  112000   \n",
       "3    75       2017-05-09      F  78afa995795e4d85b5d9ceeca43f5fef  100000   \n",
       "5    68       2018-04-26      M  e2127556f4f64592b11af22de27a7932   70000   \n",
       "8    65       2018-02-09      M  389bc3fa690240e798340f5a15918d5c   53000   \n",
       "12   58       2017-11-11      M  2eeac8d8feae4a8cad5a6af0499a211d   51000   \n",
       "\n",
       "    gender_F  gender_M  gender_O  age_group  income_range  year_joined  \\\n",
       "1          1         0         0          3             3         2017   \n",
       "3          1         0         0          4             3         2017   \n",
       "5          0         1         0          4             2         2018   \n",
       "8          0         1         0          4             1         2018   \n",
       "12         0         1         0          3             1         2017   \n",
       "\n",
       "    membership_days  \n",
       "1               642  \n",
       "3               709  \n",
       "5               357  \n",
       "8               433  \n",
       "12              523  "
      ]
     },
     "execution_count": 33,
     "metadata": {},
     "output_type": "execute_result"
    }
   ],
   "source": [
    "profile['year_joined'] = profile['became_member_on'].dt.year\n",
    "\n",
    "# adding a new column 'membership_days' ,that will present the number of days since the customer become a member\n",
    "profile['membership_days'] = pd.datetime.today().date() - profile['became_member_on'].dt.date\n",
    "\n",
    "# removing the 'days' unit\n",
    "profile['membership_days'] = profile['membership_days'].dt.days\n",
    "profile['membership_days'] = profile['membership_days'] - 1500\n",
    "profile.head()"
   ]
  },
  {
   "cell_type": "markdown",
   "metadata": {},
   "source": [
    "Let's transform the **membership_days**:"
   ]
  },
  {
   "cell_type": "code",
   "execution_count": 34,
   "metadata": {},
   "outputs": [
    {
     "name": "stdout",
     "output_type": "stream",
     "text": [
      "{'member_type': {'new': 1, 'regular': 2, 'loyal': 3}}\n"
     ]
    }
   ],
   "source": [
    "# creating a new column 'member_type' representing the type of the member: new, regular or loyal depending on the number of his 'membership_days'\n",
    "profile['member_type'] = pd.cut(profile['membership_days'], bins=[190, 750, 1600, 42500],labels=['new', 'regular', 'loyal'])\n",
    "\n",
    "# replacing the 'member_type' categorical labels by numerical labels\n",
    "labels_member_type = profile['member_type'].astype('category').cat.categories.tolist()\n",
    "replace_map_comp_member_type = {'member_type' : {k: v for k,v in zip(labels_member_type,list(range(1,len(labels_member_type)+1)))}}\n",
    "\n",
    "# replacing categorical labels in 'member_type' column with numerical labels\n",
    "profile.replace(replace_map_comp_member_type, inplace=True)\n",
    "\n",
    "profile.head()\n",
    "print(replace_map_comp_member_type)"
   ]
  },
  {
   "cell_type": "code",
   "execution_count": 35,
   "metadata": {},
   "outputs": [
    {
     "data": {
      "text/plain": [
       "count    14825.000000\n",
       "mean       788.478988\n",
       "std        419.205158\n",
       "min        266.000000\n",
       "25%        474.000000\n",
       "50%        624.000000\n",
       "75%       1063.000000\n",
       "max       2089.000000\n",
       "Name: membership_days, dtype: float64"
      ]
     },
     "execution_count": 35,
     "metadata": {},
     "output_type": "execute_result"
    }
   ],
   "source": [
    "profile.membership_days.describe()"
   ]
  },
  {
   "cell_type": "code",
   "execution_count": 36,
   "metadata": {},
   "outputs": [
    {
     "data": {
      "text/plain": [
       "1    10602\n",
       "2     3335\n",
       "3      888\n",
       "Name: member_type, dtype: int64"
      ]
     },
     "execution_count": 36,
     "metadata": {},
     "output_type": "execute_result"
    }
   ],
   "source": [
    "profile.member_type.value_counts()"
   ]
  },
  {
   "cell_type": "code",
   "execution_count": 48,
   "metadata": {
    "scrolled": false
   },
   "outputs": [
    {
     "data": {
      "text/html": [
       "<div>\n",
       "<style scoped>\n",
       "    .dataframe tbody tr th:only-of-type {\n",
       "        vertical-align: middle;\n",
       "    }\n",
       "\n",
       "    .dataframe tbody tr th {\n",
       "        vertical-align: top;\n",
       "    }\n",
       "\n",
       "    .dataframe thead th {\n",
       "        text-align: right;\n",
       "    }\n",
       "</style>\n",
       "<table border=\"1\" class=\"dataframe\">\n",
       "  <thead>\n",
       "    <tr style=\"text-align: right;\">\n",
       "      <th></th>\n",
       "      <th>age</th>\n",
       "      <th>became_member_on</th>\n",
       "      <th>gender</th>\n",
       "      <th>customer_id</th>\n",
       "      <th>income</th>\n",
       "      <th>gender_F</th>\n",
       "      <th>gender_M</th>\n",
       "      <th>gender_O</th>\n",
       "      <th>age_group</th>\n",
       "      <th>income_range</th>\n",
       "      <th>year_joined</th>\n",
       "      <th>membership_days</th>\n",
       "      <th>member_type</th>\n",
       "    </tr>\n",
       "  </thead>\n",
       "  <tbody>\n",
       "    <tr>\n",
       "      <th>1</th>\n",
       "      <td>55</td>\n",
       "      <td>2017-07-15</td>\n",
       "      <td>F</td>\n",
       "      <td>0610b486422d4921ae7d2bf64640c50b</td>\n",
       "      <td>112000</td>\n",
       "      <td>1</td>\n",
       "      <td>0</td>\n",
       "      <td>0</td>\n",
       "      <td>3</td>\n",
       "      <td>3</td>\n",
       "      <td>2017</td>\n",
       "      <td>642</td>\n",
       "      <td>1</td>\n",
       "    </tr>\n",
       "    <tr>\n",
       "      <th>3</th>\n",
       "      <td>75</td>\n",
       "      <td>2017-05-09</td>\n",
       "      <td>F</td>\n",
       "      <td>78afa995795e4d85b5d9ceeca43f5fef</td>\n",
       "      <td>100000</td>\n",
       "      <td>1</td>\n",
       "      <td>0</td>\n",
       "      <td>0</td>\n",
       "      <td>4</td>\n",
       "      <td>3</td>\n",
       "      <td>2017</td>\n",
       "      <td>709</td>\n",
       "      <td>1</td>\n",
       "    </tr>\n",
       "    <tr>\n",
       "      <th>5</th>\n",
       "      <td>68</td>\n",
       "      <td>2018-04-26</td>\n",
       "      <td>M</td>\n",
       "      <td>e2127556f4f64592b11af22de27a7932</td>\n",
       "      <td>70000</td>\n",
       "      <td>0</td>\n",
       "      <td>1</td>\n",
       "      <td>0</td>\n",
       "      <td>4</td>\n",
       "      <td>2</td>\n",
       "      <td>2018</td>\n",
       "      <td>357</td>\n",
       "      <td>1</td>\n",
       "    </tr>\n",
       "    <tr>\n",
       "      <th>8</th>\n",
       "      <td>65</td>\n",
       "      <td>2018-02-09</td>\n",
       "      <td>M</td>\n",
       "      <td>389bc3fa690240e798340f5a15918d5c</td>\n",
       "      <td>53000</td>\n",
       "      <td>0</td>\n",
       "      <td>1</td>\n",
       "      <td>0</td>\n",
       "      <td>4</td>\n",
       "      <td>1</td>\n",
       "      <td>2018</td>\n",
       "      <td>433</td>\n",
       "      <td>1</td>\n",
       "    </tr>\n",
       "    <tr>\n",
       "      <th>12</th>\n",
       "      <td>58</td>\n",
       "      <td>2017-11-11</td>\n",
       "      <td>M</td>\n",
       "      <td>2eeac8d8feae4a8cad5a6af0499a211d</td>\n",
       "      <td>51000</td>\n",
       "      <td>0</td>\n",
       "      <td>1</td>\n",
       "      <td>0</td>\n",
       "      <td>3</td>\n",
       "      <td>1</td>\n",
       "      <td>2017</td>\n",
       "      <td>523</td>\n",
       "      <td>1</td>\n",
       "    </tr>\n",
       "  </tbody>\n",
       "</table>\n",
       "</div>"
      ],
      "text/plain": [
       "    age became_member_on gender                       customer_id  income  \\\n",
       "1    55       2017-07-15      F  0610b486422d4921ae7d2bf64640c50b  112000   \n",
       "3    75       2017-05-09      F  78afa995795e4d85b5d9ceeca43f5fef  100000   \n",
       "5    68       2018-04-26      M  e2127556f4f64592b11af22de27a7932   70000   \n",
       "8    65       2018-02-09      M  389bc3fa690240e798340f5a15918d5c   53000   \n",
       "12   58       2017-11-11      M  2eeac8d8feae4a8cad5a6af0499a211d   51000   \n",
       "\n",
       "    gender_F  gender_M  gender_O  age_group  income_range  year_joined  \\\n",
       "1          1         0         0          3             3         2017   \n",
       "3          1         0         0          4             3         2017   \n",
       "5          0         1         0          4             2         2018   \n",
       "8          0         1         0          4             1         2018   \n",
       "12         0         1         0          3             1         2017   \n",
       "\n",
       "    membership_days  member_type  \n",
       "1               642            1  \n",
       "3               709            1  \n",
       "5               357            1  \n",
       "8               433            1  \n",
       "12              523            1  "
      ]
     },
     "execution_count": 48,
     "metadata": {},
     "output_type": "execute_result"
    }
   ],
   "source": [
    "profile.head()"
   ]
  },
  {
   "cell_type": "code",
   "execution_count": 37,
   "metadata": {},
   "outputs": [
    {
     "data": {
      "text/plain": [
       "(14825, 13)"
      ]
     },
     "execution_count": 37,
     "metadata": {},
     "output_type": "execute_result"
    }
   ],
   "source": [
    "profile.shape"
   ]
  },
  {
   "cell_type": "code",
   "execution_count": 56,
   "metadata": {},
   "outputs": [
    {
     "data": {
      "text/plain": [
       "count    14825.000000\n",
       "mean        54.393524\n",
       "std         17.383705\n",
       "min         18.000000\n",
       "25%         42.000000\n",
       "50%         55.000000\n",
       "75%         66.000000\n",
       "max        101.000000\n",
       "Name: age, dtype: float64"
      ]
     },
     "execution_count": 56,
     "metadata": {},
     "output_type": "execute_result"
    }
   ],
   "source": [
    "profile.age.describe()"
   ]
  },
  {
   "cell_type": "code",
   "execution_count": 60,
   "metadata": {},
   "outputs": [
    {
     "data": {
      "text/plain": [
       "array([[<matplotlib.axes._subplots.AxesSubplot object at 0x7f34a3462c88>,\n",
       "        <matplotlib.axes._subplots.AxesSubplot object at 0x7f34a286d358>],\n",
       "       [<matplotlib.axes._subplots.AxesSubplot object at 0x7f34a25cc2b0>,\n",
       "        <matplotlib.axes._subplots.AxesSubplot object at 0x7f34a25eb1d0>]], dtype=object)"
      ]
     },
     "execution_count": 60,
     "metadata": {},
     "output_type": "execute_result"
    },
    {
     "data": {
      "image/png": "[encoded data removed]",
      "text/plain": [
       "<matplotlib.figure.Figure at 0x7f34a2dd6ac8>"
      ]
     },
     "metadata": {
      "needs_background": "light"
     },
     "output_type": "display_data"
    }
   ],
   "source": [
    "profile[['age', 'income', 'year_joined']].hist()"
   ]
  },
  {
   "cell_type": "markdown",
   "metadata": {},
   "source": [
    "It seems that the minimum age for joining the reward program is 18. The mean of the age column is 55 and the distribution is similar to gaussion distribution which is an expected distribution."
   ]
  },
  {
   "cell_type": "code",
   "execution_count": 61,
   "metadata": {},
   "outputs": [
    {
     "data": {
      "text/plain": [
       "count     14825.000000\n",
       "mean      65404.991568\n",
       "std       21598.299410\n",
       "min       30000.000000\n",
       "25%       49000.000000\n",
       "50%       64000.000000\n",
       "75%       80000.000000\n",
       "max      120000.000000\n",
       "Name: income, dtype: float64"
      ]
     },
     "execution_count": 61,
     "metadata": {},
     "output_type": "execute_result"
    }
   ],
   "source": [
    "profile.income.describe()"
   ]
  },
  {
   "cell_type": "markdown",
   "metadata": {},
   "source": [
    "It seems that the minimum income is 30K and the income distribution is skewed to RHS. Let's look at the gender-wise income distribution."
   ]
  },
  {
   "cell_type": "code",
   "execution_count": 62,
   "metadata": {},
   "outputs": [
    {
     "data": {
      "image/png": "[encoded data removed]",
      "text/plain": [
       "<matplotlib.figure.Figure at 0x7f34a2d9fe80>"
      ]
     },
     "metadata": {
      "needs_background": "light"
     },
     "output_type": "display_data"
    }
   ],
   "source": [
    "## Gender-wise Income Distribution\n",
    "sns.distplot(profile[profile.gender=='M'].income,label='Male')\n",
    "sns.distplot(profile[profile.gender=='F'].income,label='Female')\n",
    "plt.legend()\n",
    "plt.show()"
   ]
  },
  {
   "cell_type": "markdown",
   "metadata": {},
   "source": [
    "Male population outnumbers female population in lower and average income zone, while female population outnumbers the male population in higher income zone. "
   ]
  },
  {
   "cell_type": "code",
   "execution_count": 63,
   "metadata": {},
   "outputs": [
    {
     "data": {
      "text/plain": [
       "count      8484.000000\n",
       "mean      61194.601603\n",
       "std       20069.517615\n",
       "min       30000.000000\n",
       "25%       45000.000000\n",
       "50%       59000.000000\n",
       "75%       73000.000000\n",
       "max      120000.000000\n",
       "Name: income, dtype: float64"
      ]
     },
     "execution_count": 63,
     "metadata": {},
     "output_type": "execute_result"
    }
   ],
   "source": [
    "profile[profile.gender=='M'].income.describe()"
   ]
  },
  {
   "cell_type": "code",
   "execution_count": 64,
   "metadata": {},
   "outputs": [
    {
     "data": {
      "text/plain": [
       "count      6129.000000\n",
       "mean      71306.412139\n",
       "std       22338.353773\n",
       "min       30000.000000\n",
       "25%       54000.000000\n",
       "50%       71000.000000\n",
       "75%       88000.000000\n",
       "max      120000.000000\n",
       "Name: income, dtype: float64"
      ]
     },
     "execution_count": 64,
     "metadata": {},
     "output_type": "execute_result"
    }
   ],
   "source": [
    "profile[profile.gender=='F'].income.describe()"
   ]
  },
  {
   "cell_type": "code",
   "execution_count": 65,
   "metadata": {},
   "outputs": [
    {
     "data": {
      "text/plain": [
       "count       212.000000\n",
       "mean      63287.735849\n",
       "std       18938.594726\n",
       "min       30000.000000\n",
       "25%       51000.000000\n",
       "50%       62000.000000\n",
       "75%       79250.000000\n",
       "max      100000.000000\n",
       "Name: income, dtype: float64"
      ]
     },
     "execution_count": 65,
     "metadata": {},
     "output_type": "execute_result"
    }
   ],
   "source": [
    "profile[profile.gender=='O'].income.describe()"
   ]
  },
  {
   "cell_type": "code",
   "execution_count": 66,
   "metadata": {},
   "outputs": [
    {
     "data": {
      "text/plain": [
       "(array([0, 1, 2]), <a list of 3 Text xticklabel objects>)"
      ]
     },
     "execution_count": 66,
     "metadata": {},
     "output_type": "execute_result"
    },
    {
     "data": {
      "image/png": "[encoded data removed]",
      "text/plain": [
       "<matplotlib.figure.Figure at 0x7f34a2551ba8>"
      ]
     },
     "metadata": {
      "needs_background": "light"
     },
     "output_type": "display_data"
    }
   ],
   "source": [
    "(profile['gender'].value_counts()).plot(kind='bar')\n",
    "plt.xticks(rotation=0)"
   ]
  },
  {
   "cell_type": "markdown",
   "metadata": {},
   "source": [
    "When considering the gender, the dataset is a little bit biased, as number of male population outnumbers the female population and there is small number of people for the other category. Speaking with the exact figures; there are 8484 males, 6129 females and only 212 others in the dataset."
   ]
  },
  {
   "cell_type": "code",
   "execution_count": 67,
   "metadata": {},
   "outputs": [
    {
     "data": {
      "image/png": "[encoded data removed]",
      "text/plain": [
       "<matplotlib.figure.Figure at 0x7f34a253b898>"
      ]
     },
     "metadata": {
      "needs_background": "light"
     },
     "output_type": "display_data"
    }
   ],
   "source": [
    "g = profile.year_joined.hist();\n",
    "g.set_xlabel(\"Date became member\");\n",
    "g.set_ylabel(\"Individuals\");"
   ]
  },
  {
   "cell_type": "markdown",
   "metadata": {},
   "source": [
    "It is seen that the number of people who joins the program has an increase trend between the years of 2013 and 2017 with 2017 is the best year. "
   ]
  },
  {
   "cell_type": "markdown",
   "metadata": {},
   "source": [
    "#### 2.2.Highligths and Observations\n",
    "* There are 17000 rows and 5 cloumns in the profile dataset.\n",
    "* **id** and **gender** have object data type whereas **age, became_memeber_on** and **income** columns are numerical\n",
    "* There are 2175 rows where the **gender** and **income**  are both null at the same time. **age** value is 118 on these rows. These rows are removed from dataset.\n",
    "* **became_member_on** column transformed from string to date\n",
    "* There is no duplicate row in the dataset\n",
    "#####  Observations\n",
    "* Minimum age for joining the reward program is 18. The mean of the **age** column is 55 and the distribution is similar to gaussion distribution which is an expected distribution.\n",
    "* Minimum income is 30K and the income distribution is skewed to right as expected.\n",
    "* Male population outnumbers female population in lower and average income zone, while female population outnumbers the male population in higher income zone. \n",
    "* When considering the **gender**, the dataset is a little bit biased, as number of male population outnumbers the female population and there is small number of people for the other category. Speaking with the exact figures; there are 8484 males, 6129 females and only 212 others in the dataset.\n",
    "* It is seen that the number of people who joins the program has an increase trend between the years of 2013 and 2017 with 2017 is the best year. "
   ]
  },
  {
   "cell_type": "markdown",
   "metadata": {},
   "source": [
    "### 3.Transcript Dataset\n",
    "\n",
    "**transcript.json**\n",
    "* event (str) - record description (ie transaction, offer received, offer viewed, etc.)\n",
    "* person (str) - customer id\n",
    "* time (int) - time in hours since start of test. The data begins at time t=0\n",
    "* value - (dict of strings) - either an offer id or transaction amount depending on the record\n",
    "\n",
    "#### 3.1.Data Exploration (Transcript Dataset)\n"
   ]
  },
  {
   "cell_type": "code",
   "execution_count": 68,
   "metadata": {},
   "outputs": [
    {
     "data": {
      "text/html": [
       "<div>\n",
       "<style scoped>\n",
       "    .dataframe tbody tr th:only-of-type {\n",
       "        vertical-align: middle;\n",
       "    }\n",
       "\n",
       "    .dataframe tbody tr th {\n",
       "        vertical-align: top;\n",
       "    }\n",
       "\n",
       "    .dataframe thead th {\n",
       "        text-align: right;\n",
       "    }\n",
       "</style>\n",
       "<table border=\"1\" class=\"dataframe\">\n",
       "  <thead>\n",
       "    <tr style=\"text-align: right;\">\n",
       "      <th></th>\n",
       "      <th>event</th>\n",
       "      <th>person</th>\n",
       "      <th>time</th>\n",
       "      <th>value</th>\n",
       "    </tr>\n",
       "  </thead>\n",
       "  <tbody>\n",
       "    <tr>\n",
       "      <th>0</th>\n",
       "      <td>offer received</td>\n",
       "      <td>78afa995795e4d85b5d9ceeca43f5fef</td>\n",
       "      <td>0</td>\n",
       "      <td>{'offer id': '9b98b8c7a33c4b65b9aebfe6a799e6d9'}</td>\n",
       "    </tr>\n",
       "    <tr>\n",
       "      <th>1</th>\n",
       "      <td>offer received</td>\n",
       "      <td>a03223e636434f42ac4c3df47e8bac43</td>\n",
       "      <td>0</td>\n",
       "      <td>{'offer id': '0b1e1539f2cc45b7b9fa7c272da2e1d7'}</td>\n",
       "    </tr>\n",
       "    <tr>\n",
       "      <th>2</th>\n",
       "      <td>offer received</td>\n",
       "      <td>e2127556f4f64592b11af22de27a7932</td>\n",
       "      <td>0</td>\n",
       "      <td>{'offer id': '2906b810c7d4411798c6938adc9daaa5'}</td>\n",
       "    </tr>\n",
       "    <tr>\n",
       "      <th>3</th>\n",
       "      <td>offer received</td>\n",
       "      <td>8ec6ce2a7e7949b1bf142def7d0e0586</td>\n",
       "      <td>0</td>\n",
       "      <td>{'offer id': 'fafdcd668e3743c1bb461111dcafc2a4'}</td>\n",
       "    </tr>\n",
       "    <tr>\n",
       "      <th>4</th>\n",
       "      <td>offer received</td>\n",
       "      <td>68617ca6246f4fbc85e91a2a49552598</td>\n",
       "      <td>0</td>\n",
       "      <td>{'offer id': '4d5c57ea9a6940dd891ad53e9dbe8da0'}</td>\n",
       "    </tr>\n",
       "  </tbody>\n",
       "</table>\n",
       "</div>"
      ],
      "text/plain": [
       "            event                            person  time  \\\n",
       "0  offer received  78afa995795e4d85b5d9ceeca43f5fef     0   \n",
       "1  offer received  a03223e636434f42ac4c3df47e8bac43     0   \n",
       "2  offer received  e2127556f4f64592b11af22de27a7932     0   \n",
       "3  offer received  8ec6ce2a7e7949b1bf142def7d0e0586     0   \n",
       "4  offer received  68617ca6246f4fbc85e91a2a49552598     0   \n",
       "\n",
       "                                              value  \n",
       "0  {'offer id': '9b98b8c7a33c4b65b9aebfe6a799e6d9'}  \n",
       "1  {'offer id': '0b1e1539f2cc45b7b9fa7c272da2e1d7'}  \n",
       "2  {'offer id': '2906b810c7d4411798c6938adc9daaa5'}  \n",
       "3  {'offer id': 'fafdcd668e3743c1bb461111dcafc2a4'}  \n",
       "4  {'offer id': '4d5c57ea9a6940dd891ad53e9dbe8da0'}  "
      ]
     },
     "execution_count": 68,
     "metadata": {},
     "output_type": "execute_result"
    }
   ],
   "source": [
    "transcript.head()"
   ]
  },
  {
   "cell_type": "code",
   "execution_count": 69,
   "metadata": {},
   "outputs": [
    {
     "data": {
      "text/plain": [
       "(306534, 4)"
      ]
     },
     "execution_count": 69,
     "metadata": {},
     "output_type": "execute_result"
    }
   ],
   "source": [
    "transcript.shape"
   ]
  },
  {
   "cell_type": "markdown",
   "metadata": {},
   "source": [
    "There are 306534 rows and 4 columns in the transcript dataset."
   ]
  },
  {
   "cell_type": "code",
   "execution_count": 70,
   "metadata": {},
   "outputs": [
    {
     "name": "stdout",
     "output_type": "stream",
     "text": [
      "<class 'pandas.core.frame.DataFrame'>\n",
      "RangeIndex: 306534 entries, 0 to 306533\n",
      "Data columns (total 4 columns):\n",
      "event     306534 non-null object\n",
      "person    306534 non-null object\n",
      "time      306534 non-null int64\n",
      "value     306534 non-null object\n",
      "dtypes: int64(1), object(3)\n",
      "memory usage: 9.4+ MB\n"
     ]
    }
   ],
   "source": [
    "transcript.info()"
   ]
  },
  {
   "cell_type": "markdown",
   "metadata": {},
   "source": [
    "**event, person** and **value** columns are object type, whereas the **time** column is integer."
   ]
  },
  {
   "cell_type": "code",
   "execution_count": 71,
   "metadata": {},
   "outputs": [],
   "source": [
    "# Rename person column to customer_id (identical than portfolio dataset to make the join later)\n",
    "transcript.rename(columns={'person': 'customer_id'}, inplace=True)"
   ]
  },
  {
   "cell_type": "code",
   "execution_count": 72,
   "metadata": {},
   "outputs": [
    {
     "data": {
      "text/plain": [
       "event          0\n",
       "customer_id    0\n",
       "time           0\n",
       "value          0\n",
       "dtype: int64"
      ]
     },
     "execution_count": 72,
     "metadata": {},
     "output_type": "execute_result"
    }
   ],
   "source": [
    "transcript.isnull().sum()"
   ]
  },
  {
   "cell_type": "markdown",
   "metadata": {},
   "source": [
    "There is no null/missing column in the dataset"
   ]
  },
  {
   "cell_type": "code",
   "execution_count": 73,
   "metadata": {},
   "outputs": [
    {
     "data": {
      "text/plain": [
       "array(['offer received', 'offer viewed', 'transaction', 'offer completed'], dtype=object)"
      ]
     },
     "execution_count": 73,
     "metadata": {},
     "output_type": "execute_result"
    }
   ],
   "source": [
    "transcript.event.unique()"
   ]
  },
  {
   "cell_type": "code",
   "execution_count": 74,
   "metadata": {},
   "outputs": [
    {
     "data": {
      "text/html": [
       "<div>\n",
       "<style scoped>\n",
       "    .dataframe tbody tr th:only-of-type {\n",
       "        vertical-align: middle;\n",
       "    }\n",
       "\n",
       "    .dataframe tbody tr th {\n",
       "        vertical-align: top;\n",
       "    }\n",
       "\n",
       "    .dataframe thead th {\n",
       "        text-align: right;\n",
       "    }\n",
       "</style>\n",
       "<table border=\"1\" class=\"dataframe\">\n",
       "  <thead>\n",
       "    <tr style=\"text-align: right;\">\n",
       "      <th></th>\n",
       "      <th>event</th>\n",
       "      <th>count</th>\n",
       "    </tr>\n",
       "  </thead>\n",
       "  <tbody>\n",
       "    <tr>\n",
       "      <th>0</th>\n",
       "      <td>transaction</td>\n",
       "      <td>138953</td>\n",
       "    </tr>\n",
       "    <tr>\n",
       "      <th>1</th>\n",
       "      <td>offer received</td>\n",
       "      <td>76277</td>\n",
       "    </tr>\n",
       "    <tr>\n",
       "      <th>2</th>\n",
       "      <td>offer viewed</td>\n",
       "      <td>57725</td>\n",
       "    </tr>\n",
       "    <tr>\n",
       "      <th>3</th>\n",
       "      <td>offer completed</td>\n",
       "      <td>33579</td>\n",
       "    </tr>\n",
       "  </tbody>\n",
       "</table>\n",
       "</div>"
      ],
      "text/plain": [
       "             event   count\n",
       "0      transaction  138953\n",
       "1   offer received   76277\n",
       "2     offer viewed   57725\n",
       "3  offer completed   33579"
      ]
     },
     "execution_count": 74,
     "metadata": {},
     "output_type": "execute_result"
    }
   ],
   "source": [
    "event_counts = transcript['event'].value_counts()\n",
    "event_counts = pd.DataFrame(list(zip(event_counts.index.values, event_counts)),\n",
    "                            columns=['event', 'count'])\n",
    "event_counts"
   ]
  },
  {
   "cell_type": "markdown",
   "metadata": {},
   "source": [
    "It is no suprise that **transaction** > **offer received** > **offer viewed** > **offer completed**"
   ]
  },
  {
   "cell_type": "code",
   "execution_count": 75,
   "metadata": {},
   "outputs": [
    {
     "name": "stdout",
     "output_type": "stream",
     "text": [
      "<class 'pandas.core.frame.DataFrame'>\n",
      "RangeIndex: 306534 entries, 0 to 306533\n",
      "Data columns (total 4 columns):\n",
      "event          306534 non-null object\n",
      "customer_id    306534 non-null object\n",
      "time           306534 non-null int64\n",
      "value          306534 non-null object\n",
      "dtypes: int64(1), object(3)\n",
      "memory usage: 9.4+ MB\n"
     ]
    }
   ],
   "source": [
    "transcript.info()"
   ]
  },
  {
   "cell_type": "code",
   "execution_count": 76,
   "metadata": {},
   "outputs": [
    {
     "data": {
      "text/plain": [
       "(17000,)"
      ]
     },
     "execution_count": 76,
     "metadata": {},
     "output_type": "execute_result"
    }
   ],
   "source": [
    "transcript.customer_id.unique().shape"
   ]
  },
  {
   "cell_type": "markdown",
   "metadata": {},
   "source": [
    "It seems that the people I removed from the profile dataset (rows with age == 118 and the gender&income columns missing) also included in the transcript dataset. Let's do further investigation."
   ]
  },
  {
   "cell_type": "code",
   "execution_count": 77,
   "metadata": {},
   "outputs": [],
   "source": [
    "unique_persons_in_transcript = transcript.customer_id .unique()\n",
    "unique_persons_in_profile = profile.customer_id.values\n",
    "id_of_persons_who_are_not_in_profile = [customer_id for customer_id  in unique_persons_in_transcript if not(customer_id  in unique_persons_in_profile)]"
   ]
  },
  {
   "cell_type": "code",
   "execution_count": 78,
   "metadata": {},
   "outputs": [
    {
     "name": "stdout",
     "output_type": "stream",
     "text": [
      "2175\n"
     ]
    }
   ],
   "source": [
    "print(len(id_of_persons_who_are_not_in_profile))"
   ]
  },
  {
   "cell_type": "markdown",
   "metadata": {},
   "source": [
    "2175 is the exact same number of rows we removed from profile dataset. Let's remove these rows from the transcript dataset as well."
   ]
  },
  {
   "cell_type": "markdown",
   "metadata": {},
   "source": [
    "transcript = transcript.loc[transcript.person.isin(unique_persons_in_profile), :]"
   ]
  },
  {
   "cell_type": "code",
   "execution_count": 79,
   "metadata": {},
   "outputs": [],
   "source": [
    "# transcript: drop transaction rows whose customer_id is not in profile:customer_id\n",
    "transcript = transcript[transcript.customer_id.isin(profile.customer_id)]"
   ]
  },
  {
   "cell_type": "code",
   "execution_count": 80,
   "metadata": {},
   "outputs": [
    {
     "data": {
      "text/plain": [
       "(272762, 4)"
      ]
     },
     "execution_count": 80,
     "metadata": {},
     "output_type": "execute_result"
    }
   ],
   "source": [
    "transcript.shape"
   ]
  },
  {
   "cell_type": "code",
   "execution_count": 81,
   "metadata": {},
   "outputs": [
    {
     "data": {
      "text/plain": [
       "14825"
      ]
     },
     "execution_count": 81,
     "metadata": {},
     "output_type": "execute_result"
    }
   ],
   "source": [
    "len(transcript.customer_id.unique())"
   ]
  },
  {
   "cell_type": "code",
   "execution_count": 82,
   "metadata": {},
   "outputs": [
    {
     "name": "stdout",
     "output_type": "stream",
     "text": [
      "<class 'pandas.core.frame.DataFrame'>\n",
      "Int64Index: 272762 entries, 0 to 306532\n",
      "Data columns (total 4 columns):\n",
      "event          272762 non-null object\n",
      "customer_id    272762 non-null object\n",
      "time           272762 non-null int64\n",
      "value          272762 non-null object\n",
      "dtypes: int64(1), object(3)\n",
      "memory usage: 10.4+ MB\n"
     ]
    }
   ],
   "source": [
    "# checking the current columns' datatypes \n",
    "transcript.info()"
   ]
  },
  {
   "cell_type": "code",
   "execution_count": 83,
   "metadata": {},
   "outputs": [
    {
     "data": {
      "text/html": [
       "<div>\n",
       "<style scoped>\n",
       "    .dataframe tbody tr th:only-of-type {\n",
       "        vertical-align: middle;\n",
       "    }\n",
       "\n",
       "    .dataframe tbody tr th {\n",
       "        vertical-align: top;\n",
       "    }\n",
       "\n",
       "    .dataframe thead th {\n",
       "        text-align: right;\n",
       "    }\n",
       "</style>\n",
       "<table border=\"1\" class=\"dataframe\">\n",
       "  <thead>\n",
       "    <tr style=\"text-align: right;\">\n",
       "      <th></th>\n",
       "      <th>event</th>\n",
       "      <th>customer_id</th>\n",
       "      <th>time</th>\n",
       "      <th>value</th>\n",
       "    </tr>\n",
       "  </thead>\n",
       "  <tbody>\n",
       "    <tr>\n",
       "      <th>0</th>\n",
       "      <td>offer received</td>\n",
       "      <td>78afa995795e4d85b5d9ceeca43f5fef</td>\n",
       "      <td>0</td>\n",
       "      <td>{'offer id': '9b98b8c7a33c4b65b9aebfe6a799e6d9'}</td>\n",
       "    </tr>\n",
       "    <tr>\n",
       "      <th>2</th>\n",
       "      <td>offer received</td>\n",
       "      <td>e2127556f4f64592b11af22de27a7932</td>\n",
       "      <td>0</td>\n",
       "      <td>{'offer id': '2906b810c7d4411798c6938adc9daaa5'}</td>\n",
       "    </tr>\n",
       "    <tr>\n",
       "      <th>5</th>\n",
       "      <td>offer received</td>\n",
       "      <td>389bc3fa690240e798340f5a15918d5c</td>\n",
       "      <td>0</td>\n",
       "      <td>{'offer id': 'f19421c1d4aa40978ebb69ca19b0e20d'}</td>\n",
       "    </tr>\n",
       "    <tr>\n",
       "      <th>7</th>\n",
       "      <td>offer received</td>\n",
       "      <td>2eeac8d8feae4a8cad5a6af0499a211d</td>\n",
       "      <td>0</td>\n",
       "      <td>{'offer id': '3f207df678b143eea3cee63160fa8bed'}</td>\n",
       "    </tr>\n",
       "    <tr>\n",
       "      <th>8</th>\n",
       "      <td>offer received</td>\n",
       "      <td>aa4862eba776480b8bb9c68455b8c2e1</td>\n",
       "      <td>0</td>\n",
       "      <td>{'offer id': '0b1e1539f2cc45b7b9fa7c272da2e1d7'}</td>\n",
       "    </tr>\n",
       "  </tbody>\n",
       "</table>\n",
       "</div>"
      ],
      "text/plain": [
       "            event                       customer_id  time  \\\n",
       "0  offer received  78afa995795e4d85b5d9ceeca43f5fef     0   \n",
       "2  offer received  e2127556f4f64592b11af22de27a7932     0   \n",
       "5  offer received  389bc3fa690240e798340f5a15918d5c     0   \n",
       "7  offer received  2eeac8d8feae4a8cad5a6af0499a211d     0   \n",
       "8  offer received  aa4862eba776480b8bb9c68455b8c2e1     0   \n",
       "\n",
       "                                              value  \n",
       "0  {'offer id': '9b98b8c7a33c4b65b9aebfe6a799e6d9'}  \n",
       "2  {'offer id': '2906b810c7d4411798c6938adc9daaa5'}  \n",
       "5  {'offer id': 'f19421c1d4aa40978ebb69ca19b0e20d'}  \n",
       "7  {'offer id': '3f207df678b143eea3cee63160fa8bed'}  \n",
       "8  {'offer id': '0b1e1539f2cc45b7b9fa7c272da2e1d7'}  "
      ]
     },
     "execution_count": 83,
     "metadata": {},
     "output_type": "execute_result"
    }
   ],
   "source": [
    "transcript.head()"
   ]
  },
  {
   "cell_type": "markdown",
   "metadata": {},
   "source": [
    "Let's expand the **value** column"
   ]
  },
  {
   "cell_type": "code",
   "execution_count": 84,
   "metadata": {},
   "outputs": [],
   "source": [
    "# Extract each key that exist in 'value' column to a seperate column.\n",
    "# getting the different keys  that exists in the 'value' column\n",
    "keys = []\n",
    "for idx, row in transcript.iterrows():\n",
    "    for k in row['value']:\n",
    "        if k in keys:\n",
    "            continue\n",
    "        else:\n",
    "            keys.append(k)"
   ]
  },
  {
   "cell_type": "code",
   "execution_count": 236,
   "metadata": {},
   "outputs": [
    {
     "data": {
      "text/plain": [
       "['offer id', 'amount', 'offer_id', 'reward']"
      ]
     },
     "execution_count": 236,
     "metadata": {},
     "output_type": "execute_result"
    }
   ],
   "source": [
    "# checking the different keys of the 'value' dictionary\n",
    "keys"
   ]
  },
  {
   "cell_type": "code",
   "execution_count": 237,
   "metadata": {},
   "outputs": [],
   "source": [
    "#create columns and specify the datatype of each of them\n",
    "transcript['offer_id'] = '' # datatype : string\n",
    "transcript['amount'] = 0.00  # datatype : integer\n",
    "transcript['reward'] = 0  # datatype : integer"
   ]
  },
  {
   "cell_type": "code",
   "execution_count": 238,
   "metadata": {},
   "outputs": [],
   "source": [
    "# Iterating over clean_transcript dataset and checking 'value' column\n",
    "# then updating it and using the values to fill in the columns created above\n",
    "for idx, row in transcript.iterrows():\n",
    "    for k in row['value']:\n",
    "        if k == 'offer_id' or k == 'offer id': # b/c 'offer_id' and 'offer id' are representing the same thing \n",
    "            transcript.at[idx, 'offer_id'] = row['value'][k]\n",
    "        if k == 'amount':\n",
    "            transcript.at[idx, 'amount'] = row['value'][k]\n",
    "        if k == 'reward':\n",
    "            transcript.at[idx, 'reward'] = row['value'][k]"
   ]
  },
  {
   "cell_type": "code",
   "execution_count": 239,
   "metadata": {},
   "outputs": [
    {
     "data": {
      "text/plain": [
       "148805"
      ]
     },
     "execution_count": 239,
     "metadata": {},
     "output_type": "execute_result"
    }
   ],
   "source": [
    "transcript['amount'].value_counts()[0]"
   ]
  },
  {
   "cell_type": "code",
   "execution_count": 240,
   "metadata": {},
   "outputs": [],
   "source": [
    "# change amount column type to float\n",
    "transcript.time.astype('float')\n",
    "\n",
    "# Parse time column: hours to days\n",
    "transcript['time_in_days'] = (transcript['time'] / 24.0)"
   ]
  },
  {
   "cell_type": "code",
   "execution_count": 241,
   "metadata": {
    "scrolled": true
   },
   "outputs": [
    {
     "data": {
      "text/html": [
       "<div>\n",
       "<style scoped>\n",
       "    .dataframe tbody tr th:only-of-type {\n",
       "        vertical-align: middle;\n",
       "    }\n",
       "\n",
       "    .dataframe tbody tr th {\n",
       "        vertical-align: top;\n",
       "    }\n",
       "\n",
       "    .dataframe thead th {\n",
       "        text-align: right;\n",
       "    }\n",
       "</style>\n",
       "<table border=\"1\" class=\"dataframe\">\n",
       "  <thead>\n",
       "    <tr style=\"text-align: right;\">\n",
       "      <th></th>\n",
       "      <th>event</th>\n",
       "      <th>customer_id</th>\n",
       "      <th>time</th>\n",
       "      <th>value</th>\n",
       "      <th>offer_id</th>\n",
       "      <th>amount</th>\n",
       "      <th>reward</th>\n",
       "      <th>time_in_days</th>\n",
       "    </tr>\n",
       "  </thead>\n",
       "  <tbody>\n",
       "    <tr>\n",
       "      <th>0</th>\n",
       "      <td>offer received</td>\n",
       "      <td>78afa995795e4d85b5d9ceeca43f5fef</td>\n",
       "      <td>0</td>\n",
       "      <td>{'offer id': '9b98b8c7a33c4b65b9aebfe6a799e6d9'}</td>\n",
       "      <td>9b98b8c7a33c4b65b9aebfe6a799e6d9</td>\n",
       "      <td>0.0</td>\n",
       "      <td>0</td>\n",
       "      <td>0.0</td>\n",
       "    </tr>\n",
       "    <tr>\n",
       "      <th>2</th>\n",
       "      <td>offer received</td>\n",
       "      <td>e2127556f4f64592b11af22de27a7932</td>\n",
       "      <td>0</td>\n",
       "      <td>{'offer id': '2906b810c7d4411798c6938adc9daaa5'}</td>\n",
       "      <td>2906b810c7d4411798c6938adc9daaa5</td>\n",
       "      <td>0.0</td>\n",
       "      <td>0</td>\n",
       "      <td>0.0</td>\n",
       "    </tr>\n",
       "    <tr>\n",
       "      <th>5</th>\n",
       "      <td>offer received</td>\n",
       "      <td>389bc3fa690240e798340f5a15918d5c</td>\n",
       "      <td>0</td>\n",
       "      <td>{'offer id': 'f19421c1d4aa40978ebb69ca19b0e20d'}</td>\n",
       "      <td>f19421c1d4aa40978ebb69ca19b0e20d</td>\n",
       "      <td>0.0</td>\n",
       "      <td>0</td>\n",
       "      <td>0.0</td>\n",
       "    </tr>\n",
       "    <tr>\n",
       "      <th>7</th>\n",
       "      <td>offer received</td>\n",
       "      <td>2eeac8d8feae4a8cad5a6af0499a211d</td>\n",
       "      <td>0</td>\n",
       "      <td>{'offer id': '3f207df678b143eea3cee63160fa8bed'}</td>\n",
       "      <td>3f207df678b143eea3cee63160fa8bed</td>\n",
       "      <td>0.0</td>\n",
       "      <td>0</td>\n",
       "      <td>0.0</td>\n",
       "    </tr>\n",
       "    <tr>\n",
       "      <th>8</th>\n",
       "      <td>offer received</td>\n",
       "      <td>aa4862eba776480b8bb9c68455b8c2e1</td>\n",
       "      <td>0</td>\n",
       "      <td>{'offer id': '0b1e1539f2cc45b7b9fa7c272da2e1d7'}</td>\n",
       "      <td>0b1e1539f2cc45b7b9fa7c272da2e1d7</td>\n",
       "      <td>0.0</td>\n",
       "      <td>0</td>\n",
       "      <td>0.0</td>\n",
       "    </tr>\n",
       "  </tbody>\n",
       "</table>\n",
       "</div>"
      ],
      "text/plain": [
       "            event                       customer_id  time  \\\n",
       "0  offer received  78afa995795e4d85b5d9ceeca43f5fef     0   \n",
       "2  offer received  e2127556f4f64592b11af22de27a7932     0   \n",
       "5  offer received  389bc3fa690240e798340f5a15918d5c     0   \n",
       "7  offer received  2eeac8d8feae4a8cad5a6af0499a211d     0   \n",
       "8  offer received  aa4862eba776480b8bb9c68455b8c2e1     0   \n",
       "\n",
       "                                              value  \\\n",
       "0  {'offer id': '9b98b8c7a33c4b65b9aebfe6a799e6d9'}   \n",
       "2  {'offer id': '2906b810c7d4411798c6938adc9daaa5'}   \n",
       "5  {'offer id': 'f19421c1d4aa40978ebb69ca19b0e20d'}   \n",
       "7  {'offer id': '3f207df678b143eea3cee63160fa8bed'}   \n",
       "8  {'offer id': '0b1e1539f2cc45b7b9fa7c272da2e1d7'}   \n",
       "\n",
       "                           offer_id  amount  reward  time_in_days  \n",
       "0  9b98b8c7a33c4b65b9aebfe6a799e6d9     0.0       0           0.0  \n",
       "2  2906b810c7d4411798c6938adc9daaa5     0.0       0           0.0  \n",
       "5  f19421c1d4aa40978ebb69ca19b0e20d     0.0       0           0.0  \n",
       "7  3f207df678b143eea3cee63160fa8bed     0.0       0           0.0  \n",
       "8  0b1e1539f2cc45b7b9fa7c272da2e1d7     0.0       0           0.0  "
      ]
     },
     "execution_count": 241,
     "metadata": {},
     "output_type": "execute_result"
    }
   ],
   "source": [
    "transcript.head()"
   ]
  },
  {
   "cell_type": "code",
   "execution_count": 242,
   "metadata": {},
   "outputs": [
    {
     "data": {
      "text/plain": [
       "(272762, 8)"
      ]
     },
     "execution_count": 242,
     "metadata": {},
     "output_type": "execute_result"
    }
   ],
   "source": [
    "transcript.shape"
   ]
  },
  {
   "cell_type": "code",
   "execution_count": 243,
   "metadata": {},
   "outputs": [
    {
     "data": {
      "text/plain": [
       "event           0\n",
       "customer_id     0\n",
       "time            0\n",
       "value           0\n",
       "offer_id        0\n",
       "amount          0\n",
       "reward          0\n",
       "time_in_days    0\n",
       "dtype: int64"
      ]
     },
     "execution_count": 243,
     "metadata": {},
     "output_type": "execute_result"
    }
   ],
   "source": [
    "transcript.isnull().sum()"
   ]
  },
  {
   "cell_type": "code",
   "execution_count": 244,
   "metadata": {},
   "outputs": [],
   "source": [
    "# Extract transcript dataset rows when they are offer xxxxx in event column\n",
    "offer_tr = transcript[transcript.event != 'transaction'].copy()\n",
    "offer_tr.drop(['amount'], axis=1, inplace=True)"
   ]
  },
  {
   "cell_type": "code",
   "execution_count": 245,
   "metadata": {},
   "outputs": [],
   "source": [
    "# One-hot encoding for event categorical feature \n",
    "offer_tr = pd.concat([offer_tr, pd.get_dummies(offer_tr.event)], axis=1)"
   ]
  },
  {
   "cell_type": "code",
   "execution_count": 246,
   "metadata": {},
   "outputs": [
    {
     "data": {
      "text/html": [
       "<div>\n",
       "<style scoped>\n",
       "    .dataframe tbody tr th:only-of-type {\n",
       "        vertical-align: middle;\n",
       "    }\n",
       "\n",
       "    .dataframe tbody tr th {\n",
       "        vertical-align: top;\n",
       "    }\n",
       "\n",
       "    .dataframe thead th {\n",
       "        text-align: right;\n",
       "    }\n",
       "</style>\n",
       "<table border=\"1\" class=\"dataframe\">\n",
       "  <thead>\n",
       "    <tr style=\"text-align: right;\">\n",
       "      <th></th>\n",
       "      <th>event</th>\n",
       "      <th>customer_id</th>\n",
       "      <th>time</th>\n",
       "      <th>value</th>\n",
       "      <th>offer_id</th>\n",
       "      <th>reward</th>\n",
       "      <th>time_in_days</th>\n",
       "      <th>offer completed</th>\n",
       "      <th>offer received</th>\n",
       "      <th>offer viewed</th>\n",
       "    </tr>\n",
       "  </thead>\n",
       "  <tbody>\n",
       "    <tr>\n",
       "      <th>0</th>\n",
       "      <td>offer received</td>\n",
       "      <td>78afa995795e4d85b5d9ceeca43f5fef</td>\n",
       "      <td>0</td>\n",
       "      <td>{'offer id': '9b98b8c7a33c4b65b9aebfe6a799e6d9'}</td>\n",
       "      <td>9b98b8c7a33c4b65b9aebfe6a799e6d9</td>\n",
       "      <td>0</td>\n",
       "      <td>0.0</td>\n",
       "      <td>0</td>\n",
       "      <td>1</td>\n",
       "      <td>0</td>\n",
       "    </tr>\n",
       "    <tr>\n",
       "      <th>2</th>\n",
       "      <td>offer received</td>\n",
       "      <td>e2127556f4f64592b11af22de27a7932</td>\n",
       "      <td>0</td>\n",
       "      <td>{'offer id': '2906b810c7d4411798c6938adc9daaa5'}</td>\n",
       "      <td>2906b810c7d4411798c6938adc9daaa5</td>\n",
       "      <td>0</td>\n",
       "      <td>0.0</td>\n",
       "      <td>0</td>\n",
       "      <td>1</td>\n",
       "      <td>0</td>\n",
       "    </tr>\n",
       "    <tr>\n",
       "      <th>5</th>\n",
       "      <td>offer received</td>\n",
       "      <td>389bc3fa690240e798340f5a15918d5c</td>\n",
       "      <td>0</td>\n",
       "      <td>{'offer id': 'f19421c1d4aa40978ebb69ca19b0e20d'}</td>\n",
       "      <td>f19421c1d4aa40978ebb69ca19b0e20d</td>\n",
       "      <td>0</td>\n",
       "      <td>0.0</td>\n",
       "      <td>0</td>\n",
       "      <td>1</td>\n",
       "      <td>0</td>\n",
       "    </tr>\n",
       "    <tr>\n",
       "      <th>7</th>\n",
       "      <td>offer received</td>\n",
       "      <td>2eeac8d8feae4a8cad5a6af0499a211d</td>\n",
       "      <td>0</td>\n",
       "      <td>{'offer id': '3f207df678b143eea3cee63160fa8bed'}</td>\n",
       "      <td>3f207df678b143eea3cee63160fa8bed</td>\n",
       "      <td>0</td>\n",
       "      <td>0.0</td>\n",
       "      <td>0</td>\n",
       "      <td>1</td>\n",
       "      <td>0</td>\n",
       "    </tr>\n",
       "    <tr>\n",
       "      <th>8</th>\n",
       "      <td>offer received</td>\n",
       "      <td>aa4862eba776480b8bb9c68455b8c2e1</td>\n",
       "      <td>0</td>\n",
       "      <td>{'offer id': '0b1e1539f2cc45b7b9fa7c272da2e1d7'}</td>\n",
       "      <td>0b1e1539f2cc45b7b9fa7c272da2e1d7</td>\n",
       "      <td>0</td>\n",
       "      <td>0.0</td>\n",
       "      <td>0</td>\n",
       "      <td>1</td>\n",
       "      <td>0</td>\n",
       "    </tr>\n",
       "  </tbody>\n",
       "</table>\n",
       "</div>"
      ],
      "text/plain": [
       "            event                       customer_id  time  \\\n",
       "0  offer received  78afa995795e4d85b5d9ceeca43f5fef     0   \n",
       "2  offer received  e2127556f4f64592b11af22de27a7932     0   \n",
       "5  offer received  389bc3fa690240e798340f5a15918d5c     0   \n",
       "7  offer received  2eeac8d8feae4a8cad5a6af0499a211d     0   \n",
       "8  offer received  aa4862eba776480b8bb9c68455b8c2e1     0   \n",
       "\n",
       "                                              value  \\\n",
       "0  {'offer id': '9b98b8c7a33c4b65b9aebfe6a799e6d9'}   \n",
       "2  {'offer id': '2906b810c7d4411798c6938adc9daaa5'}   \n",
       "5  {'offer id': 'f19421c1d4aa40978ebb69ca19b0e20d'}   \n",
       "7  {'offer id': '3f207df678b143eea3cee63160fa8bed'}   \n",
       "8  {'offer id': '0b1e1539f2cc45b7b9fa7c272da2e1d7'}   \n",
       "\n",
       "                           offer_id  reward  time_in_days  offer completed  \\\n",
       "0  9b98b8c7a33c4b65b9aebfe6a799e6d9       0           0.0                0   \n",
       "2  2906b810c7d4411798c6938adc9daaa5       0           0.0                0   \n",
       "5  f19421c1d4aa40978ebb69ca19b0e20d       0           0.0                0   \n",
       "7  3f207df678b143eea3cee63160fa8bed       0           0.0                0   \n",
       "8  0b1e1539f2cc45b7b9fa7c272da2e1d7       0           0.0                0   \n",
       "\n",
       "   offer received  offer viewed  \n",
       "0               1             0  \n",
       "2               1             0  \n",
       "5               1             0  \n",
       "7               1             0  \n",
       "8               1             0  "
      ]
     },
     "execution_count": 246,
     "metadata": {},
     "output_type": "execute_result"
    }
   ],
   "source": [
    "offer_tr.head()"
   ]
  },
  {
   "cell_type": "code",
   "execution_count": 247,
   "metadata": {},
   "outputs": [
    {
     "data": {
      "text/plain": [
       "(148805, 10)"
      ]
     },
     "execution_count": 247,
     "metadata": {},
     "output_type": "execute_result"
    }
   ],
   "source": [
    "offer_tr.shape"
   ]
  },
  {
   "cell_type": "code",
   "execution_count": 248,
   "metadata": {},
   "outputs": [],
   "source": [
    "# Extract transcript rows when event is a transaction\n",
    "transaction_tr = transcript[transcript.event == 'transaction'].copy()\n",
    "\n",
    "# Then drop offer_id column (this column belongs to event = offer xxxxx)\n",
    "transaction_tr.drop(['offer_id'], axis=1, inplace=True)"
   ]
  },
  {
   "cell_type": "code",
   "execution_count": 249,
   "metadata": {},
   "outputs": [
    {
     "data": {
      "text/html": [
       "<div>\n",
       "<style scoped>\n",
       "    .dataframe tbody tr th:only-of-type {\n",
       "        vertical-align: middle;\n",
       "    }\n",
       "\n",
       "    .dataframe tbody tr th {\n",
       "        vertical-align: top;\n",
       "    }\n",
       "\n",
       "    .dataframe thead th {\n",
       "        text-align: right;\n",
       "    }\n",
       "</style>\n",
       "<table border=\"1\" class=\"dataframe\">\n",
       "  <thead>\n",
       "    <tr style=\"text-align: right;\">\n",
       "      <th></th>\n",
       "      <th>event</th>\n",
       "      <th>customer_id</th>\n",
       "      <th>time</th>\n",
       "      <th>value</th>\n",
       "      <th>amount</th>\n",
       "      <th>reward</th>\n",
       "      <th>time_in_days</th>\n",
       "    </tr>\n",
       "  </thead>\n",
       "  <tbody>\n",
       "    <tr>\n",
       "      <th>12654</th>\n",
       "      <td>transaction</td>\n",
       "      <td>02c083884c7d45b39cc68e1314fec56c</td>\n",
       "      <td>0</td>\n",
       "      <td>{'amount': 0.8300000000000001}</td>\n",
       "      <td>0.83</td>\n",
       "      <td>0</td>\n",
       "      <td>0.0</td>\n",
       "    </tr>\n",
       "    <tr>\n",
       "      <th>12657</th>\n",
       "      <td>transaction</td>\n",
       "      <td>9fa9ae8f57894cc9a3b8a9bbe0fc1b2f</td>\n",
       "      <td>0</td>\n",
       "      <td>{'amount': 34.56}</td>\n",
       "      <td>34.56</td>\n",
       "      <td>0</td>\n",
       "      <td>0.0</td>\n",
       "    </tr>\n",
       "    <tr>\n",
       "      <th>12659</th>\n",
       "      <td>transaction</td>\n",
       "      <td>54890f68699049c2a04d415abc25e717</td>\n",
       "      <td>0</td>\n",
       "      <td>{'amount': 13.23}</td>\n",
       "      <td>13.23</td>\n",
       "      <td>0</td>\n",
       "      <td>0.0</td>\n",
       "    </tr>\n",
       "    <tr>\n",
       "      <th>12670</th>\n",
       "      <td>transaction</td>\n",
       "      <td>b2f1cd155b864803ad8334cdf13c4bd2</td>\n",
       "      <td>0</td>\n",
       "      <td>{'amount': 19.51}</td>\n",
       "      <td>19.51</td>\n",
       "      <td>0</td>\n",
       "      <td>0.0</td>\n",
       "    </tr>\n",
       "    <tr>\n",
       "      <th>12671</th>\n",
       "      <td>transaction</td>\n",
       "      <td>fe97aa22dd3e48c8b143116a8403dd52</td>\n",
       "      <td>0</td>\n",
       "      <td>{'amount': 18.97}</td>\n",
       "      <td>18.97</td>\n",
       "      <td>0</td>\n",
       "      <td>0.0</td>\n",
       "    </tr>\n",
       "  </tbody>\n",
       "</table>\n",
       "</div>"
      ],
      "text/plain": [
       "             event                       customer_id  time  \\\n",
       "12654  transaction  02c083884c7d45b39cc68e1314fec56c     0   \n",
       "12657  transaction  9fa9ae8f57894cc9a3b8a9bbe0fc1b2f     0   \n",
       "12659  transaction  54890f68699049c2a04d415abc25e717     0   \n",
       "12670  transaction  b2f1cd155b864803ad8334cdf13c4bd2     0   \n",
       "12671  transaction  fe97aa22dd3e48c8b143116a8403dd52     0   \n",
       "\n",
       "                                value  amount  reward  time_in_days  \n",
       "12654  {'amount': 0.8300000000000001}    0.83       0           0.0  \n",
       "12657               {'amount': 34.56}   34.56       0           0.0  \n",
       "12659               {'amount': 13.23}   13.23       0           0.0  \n",
       "12670               {'amount': 19.51}   19.51       0           0.0  \n",
       "12671               {'amount': 18.97}   18.97       0           0.0  "
      ]
     },
     "execution_count": 249,
     "metadata": {},
     "output_type": "execute_result"
    }
   ],
   "source": [
    "# Shor transaction_tr dataset\n",
    "transaction_tr.head()"
   ]
  },
  {
   "cell_type": "code",
   "execution_count": 250,
   "metadata": {},
   "outputs": [],
   "source": [
    "# Merge profile and offer_tr_cl on customer_id column\n",
    "offer_profile = pd.merge(profile, offer_tr, on='customer_id', how='inner')"
   ]
  },
  {
   "cell_type": "code",
   "execution_count": 251,
   "metadata": {},
   "outputs": [
    {
     "data": {
      "text/html": [
       "<div>\n",
       "<style scoped>\n",
       "    .dataframe tbody tr th:only-of-type {\n",
       "        vertical-align: middle;\n",
       "    }\n",
       "\n",
       "    .dataframe tbody tr th {\n",
       "        vertical-align: top;\n",
       "    }\n",
       "\n",
       "    .dataframe thead th {\n",
       "        text-align: right;\n",
       "    }\n",
       "</style>\n",
       "<table border=\"1\" class=\"dataframe\">\n",
       "  <thead>\n",
       "    <tr style=\"text-align: right;\">\n",
       "      <th></th>\n",
       "      <th>age</th>\n",
       "      <th>became_member_on</th>\n",
       "      <th>gender</th>\n",
       "      <th>customer_id</th>\n",
       "      <th>income</th>\n",
       "      <th>gender_F</th>\n",
       "      <th>gender_M</th>\n",
       "      <th>gender_O</th>\n",
       "      <th>age_group</th>\n",
       "      <th>income_range</th>\n",
       "      <th>...</th>\n",
       "      <th>member_type</th>\n",
       "      <th>event</th>\n",
       "      <th>time</th>\n",
       "      <th>value</th>\n",
       "      <th>offer_id</th>\n",
       "      <th>reward</th>\n",
       "      <th>time_in_days</th>\n",
       "      <th>offer completed</th>\n",
       "      <th>offer received</th>\n",
       "      <th>offer viewed</th>\n",
       "    </tr>\n",
       "  </thead>\n",
       "  <tbody>\n",
       "    <tr>\n",
       "      <th>0</th>\n",
       "      <td>55</td>\n",
       "      <td>2017-07-15</td>\n",
       "      <td>F</td>\n",
       "      <td>0610b486422d4921ae7d2bf64640c50b</td>\n",
       "      <td>112000</td>\n",
       "      <td>1</td>\n",
       "      <td>0</td>\n",
       "      <td>0</td>\n",
       "      <td>3</td>\n",
       "      <td>3</td>\n",
       "      <td>...</td>\n",
       "      <td>1</td>\n",
       "      <td>offer received</td>\n",
       "      <td>408</td>\n",
       "      <td>{'offer id': '9b98b8c7a33c4b65b9aebfe6a799e6d9'}</td>\n",
       "      <td>9b98b8c7a33c4b65b9aebfe6a799e6d9</td>\n",
       "      <td>0</td>\n",
       "      <td>17.00</td>\n",
       "      <td>0</td>\n",
       "      <td>1</td>\n",
       "      <td>0</td>\n",
       "    </tr>\n",
       "    <tr>\n",
       "      <th>1</th>\n",
       "      <td>55</td>\n",
       "      <td>2017-07-15</td>\n",
       "      <td>F</td>\n",
       "      <td>0610b486422d4921ae7d2bf64640c50b</td>\n",
       "      <td>112000</td>\n",
       "      <td>1</td>\n",
       "      <td>0</td>\n",
       "      <td>0</td>\n",
       "      <td>3</td>\n",
       "      <td>3</td>\n",
       "      <td>...</td>\n",
       "      <td>1</td>\n",
       "      <td>offer received</td>\n",
       "      <td>504</td>\n",
       "      <td>{'offer id': '3f207df678b143eea3cee63160fa8bed'}</td>\n",
       "      <td>3f207df678b143eea3cee63160fa8bed</td>\n",
       "      <td>0</td>\n",
       "      <td>21.00</td>\n",
       "      <td>0</td>\n",
       "      <td>1</td>\n",
       "      <td>0</td>\n",
       "    </tr>\n",
       "    <tr>\n",
       "      <th>2</th>\n",
       "      <td>55</td>\n",
       "      <td>2017-07-15</td>\n",
       "      <td>F</td>\n",
       "      <td>0610b486422d4921ae7d2bf64640c50b</td>\n",
       "      <td>112000</td>\n",
       "      <td>1</td>\n",
       "      <td>0</td>\n",
       "      <td>0</td>\n",
       "      <td>3</td>\n",
       "      <td>3</td>\n",
       "      <td>...</td>\n",
       "      <td>1</td>\n",
       "      <td>offer completed</td>\n",
       "      <td>528</td>\n",
       "      <td>{'offer_id': '9b98b8c7a33c4b65b9aebfe6a799e6d9...</td>\n",
       "      <td>9b98b8c7a33c4b65b9aebfe6a799e6d9</td>\n",
       "      <td>5</td>\n",
       "      <td>22.00</td>\n",
       "      <td>1</td>\n",
       "      <td>0</td>\n",
       "      <td>0</td>\n",
       "    </tr>\n",
       "    <tr>\n",
       "      <th>3</th>\n",
       "      <td>75</td>\n",
       "      <td>2017-05-09</td>\n",
       "      <td>F</td>\n",
       "      <td>78afa995795e4d85b5d9ceeca43f5fef</td>\n",
       "      <td>100000</td>\n",
       "      <td>1</td>\n",
       "      <td>0</td>\n",
       "      <td>0</td>\n",
       "      <td>4</td>\n",
       "      <td>3</td>\n",
       "      <td>...</td>\n",
       "      <td>1</td>\n",
       "      <td>offer received</td>\n",
       "      <td>0</td>\n",
       "      <td>{'offer id': '9b98b8c7a33c4b65b9aebfe6a799e6d9'}</td>\n",
       "      <td>9b98b8c7a33c4b65b9aebfe6a799e6d9</td>\n",
       "      <td>0</td>\n",
       "      <td>0.00</td>\n",
       "      <td>0</td>\n",
       "      <td>1</td>\n",
       "      <td>0</td>\n",
       "    </tr>\n",
       "    <tr>\n",
       "      <th>4</th>\n",
       "      <td>75</td>\n",
       "      <td>2017-05-09</td>\n",
       "      <td>F</td>\n",
       "      <td>78afa995795e4d85b5d9ceeca43f5fef</td>\n",
       "      <td>100000</td>\n",
       "      <td>1</td>\n",
       "      <td>0</td>\n",
       "      <td>0</td>\n",
       "      <td>4</td>\n",
       "      <td>3</td>\n",
       "      <td>...</td>\n",
       "      <td>1</td>\n",
       "      <td>offer viewed</td>\n",
       "      <td>6</td>\n",
       "      <td>{'offer id': '9b98b8c7a33c4b65b9aebfe6a799e6d9'}</td>\n",
       "      <td>9b98b8c7a33c4b65b9aebfe6a799e6d9</td>\n",
       "      <td>0</td>\n",
       "      <td>0.25</td>\n",
       "      <td>0</td>\n",
       "      <td>0</td>\n",
       "      <td>1</td>\n",
       "    </tr>\n",
       "  </tbody>\n",
       "</table>\n",
       "<p>5 rows × 23 columns</p>\n",
       "</div>"
      ],
      "text/plain": [
       "   age became_member_on gender                       customer_id  income  \\\n",
       "0   55       2017-07-15      F  0610b486422d4921ae7d2bf64640c50b  112000   \n",
       "1   55       2017-07-15      F  0610b486422d4921ae7d2bf64640c50b  112000   \n",
       "2   55       2017-07-15      F  0610b486422d4921ae7d2bf64640c50b  112000   \n",
       "3   75       2017-05-09      F  78afa995795e4d85b5d9ceeca43f5fef  100000   \n",
       "4   75       2017-05-09      F  78afa995795e4d85b5d9ceeca43f5fef  100000   \n",
       "\n",
       "   gender_F  gender_M  gender_O  age_group  income_range      ...       \\\n",
       "0         1         0         0          3             3      ...        \n",
       "1         1         0         0          3             3      ...        \n",
       "2         1         0         0          3             3      ...        \n",
       "3         1         0         0          4             3      ...        \n",
       "4         1         0         0          4             3      ...        \n",
       "\n",
       "   member_type            event  time  \\\n",
       "0            1   offer received   408   \n",
       "1            1   offer received   504   \n",
       "2            1  offer completed   528   \n",
       "3            1   offer received     0   \n",
       "4            1     offer viewed     6   \n",
       "\n",
       "                                               value  \\\n",
       "0   {'offer id': '9b98b8c7a33c4b65b9aebfe6a799e6d9'}   \n",
       "1   {'offer id': '3f207df678b143eea3cee63160fa8bed'}   \n",
       "2  {'offer_id': '9b98b8c7a33c4b65b9aebfe6a799e6d9...   \n",
       "3   {'offer id': '9b98b8c7a33c4b65b9aebfe6a799e6d9'}   \n",
       "4   {'offer id': '9b98b8c7a33c4b65b9aebfe6a799e6d9'}   \n",
       "\n",
       "                           offer_id  reward time_in_days offer completed  \\\n",
       "0  9b98b8c7a33c4b65b9aebfe6a799e6d9       0        17.00               0   \n",
       "1  3f207df678b143eea3cee63160fa8bed       0        21.00               0   \n",
       "2  9b98b8c7a33c4b65b9aebfe6a799e6d9       5        22.00               1   \n",
       "3  9b98b8c7a33c4b65b9aebfe6a799e6d9       0         0.00               0   \n",
       "4  9b98b8c7a33c4b65b9aebfe6a799e6d9       0         0.25               0   \n",
       "\n",
       "   offer received  offer viewed  \n",
       "0               1             0  \n",
       "1               1             0  \n",
       "2               0             0  \n",
       "3               1             0  \n",
       "4               0             1  \n",
       "\n",
       "[5 rows x 23 columns]"
      ]
     },
     "execution_count": 251,
     "metadata": {},
     "output_type": "execute_result"
    }
   ],
   "source": [
    "# Show the merged dataset\n",
    "offer_profile.head()"
   ]
  },
  {
   "cell_type": "code",
   "execution_count": 252,
   "metadata": {},
   "outputs": [],
   "source": [
    "# Merge profile and transaction_tr on customer_id column\n",
    "transaction_profile = pd.merge(profile, transaction_tr, on='customer_id', how='inner')"
   ]
  },
  {
   "cell_type": "code",
   "execution_count": 253,
   "metadata": {},
   "outputs": [
    {
     "data": {
      "text/html": [
       "<div>\n",
       "<style scoped>\n",
       "    .dataframe tbody tr th:only-of-type {\n",
       "        vertical-align: middle;\n",
       "    }\n",
       "\n",
       "    .dataframe tbody tr th {\n",
       "        vertical-align: top;\n",
       "    }\n",
       "\n",
       "    .dataframe thead th {\n",
       "        text-align: right;\n",
       "    }\n",
       "</style>\n",
       "<table border=\"1\" class=\"dataframe\">\n",
       "  <thead>\n",
       "    <tr style=\"text-align: right;\">\n",
       "      <th></th>\n",
       "      <th>age</th>\n",
       "      <th>became_member_on</th>\n",
       "      <th>gender</th>\n",
       "      <th>customer_id</th>\n",
       "      <th>income</th>\n",
       "      <th>gender_F</th>\n",
       "      <th>gender_M</th>\n",
       "      <th>gender_O</th>\n",
       "      <th>age_group</th>\n",
       "      <th>income_range</th>\n",
       "      <th>gender_group</th>\n",
       "      <th>year_joined</th>\n",
       "      <th>membership_days</th>\n",
       "      <th>member_type</th>\n",
       "      <th>event</th>\n",
       "      <th>time</th>\n",
       "      <th>value</th>\n",
       "      <th>amount</th>\n",
       "      <th>reward</th>\n",
       "      <th>time_in_days</th>\n",
       "    </tr>\n",
       "  </thead>\n",
       "  <tbody>\n",
       "    <tr>\n",
       "      <th>0</th>\n",
       "      <td>55</td>\n",
       "      <td>2017-07-15</td>\n",
       "      <td>F</td>\n",
       "      <td>0610b486422d4921ae7d2bf64640c50b</td>\n",
       "      <td>112000</td>\n",
       "      <td>1</td>\n",
       "      <td>0</td>\n",
       "      <td>0</td>\n",
       "      <td>3</td>\n",
       "      <td>3</td>\n",
       "      <td>1</td>\n",
       "      <td>2017</td>\n",
       "      <td>641</td>\n",
       "      <td>1</td>\n",
       "      <td>transaction</td>\n",
       "      <td>18</td>\n",
       "      <td>{'amount': 21.51}</td>\n",
       "      <td>21.51</td>\n",
       "      <td>0</td>\n",
       "      <td>0.75</td>\n",
       "    </tr>\n",
       "    <tr>\n",
       "      <th>1</th>\n",
       "      <td>55</td>\n",
       "      <td>2017-07-15</td>\n",
       "      <td>F</td>\n",
       "      <td>0610b486422d4921ae7d2bf64640c50b</td>\n",
       "      <td>112000</td>\n",
       "      <td>1</td>\n",
       "      <td>0</td>\n",
       "      <td>0</td>\n",
       "      <td>3</td>\n",
       "      <td>3</td>\n",
       "      <td>1</td>\n",
       "      <td>2017</td>\n",
       "      <td>641</td>\n",
       "      <td>1</td>\n",
       "      <td>transaction</td>\n",
       "      <td>144</td>\n",
       "      <td>{'amount': 32.28}</td>\n",
       "      <td>32.28</td>\n",
       "      <td>0</td>\n",
       "      <td>6.00</td>\n",
       "    </tr>\n",
       "    <tr>\n",
       "      <th>2</th>\n",
       "      <td>55</td>\n",
       "      <td>2017-07-15</td>\n",
       "      <td>F</td>\n",
       "      <td>0610b486422d4921ae7d2bf64640c50b</td>\n",
       "      <td>112000</td>\n",
       "      <td>1</td>\n",
       "      <td>0</td>\n",
       "      <td>0</td>\n",
       "      <td>3</td>\n",
       "      <td>3</td>\n",
       "      <td>1</td>\n",
       "      <td>2017</td>\n",
       "      <td>641</td>\n",
       "      <td>1</td>\n",
       "      <td>transaction</td>\n",
       "      <td>528</td>\n",
       "      <td>{'amount': 23.22}</td>\n",
       "      <td>23.22</td>\n",
       "      <td>0</td>\n",
       "      <td>22.00</td>\n",
       "    </tr>\n",
       "    <tr>\n",
       "      <th>3</th>\n",
       "      <td>75</td>\n",
       "      <td>2017-05-09</td>\n",
       "      <td>F</td>\n",
       "      <td>78afa995795e4d85b5d9ceeca43f5fef</td>\n",
       "      <td>100000</td>\n",
       "      <td>1</td>\n",
       "      <td>0</td>\n",
       "      <td>0</td>\n",
       "      <td>4</td>\n",
       "      <td>3</td>\n",
       "      <td>1</td>\n",
       "      <td>2017</td>\n",
       "      <td>708</td>\n",
       "      <td>1</td>\n",
       "      <td>transaction</td>\n",
       "      <td>132</td>\n",
       "      <td>{'amount': 19.89}</td>\n",
       "      <td>19.89</td>\n",
       "      <td>0</td>\n",
       "      <td>5.50</td>\n",
       "    </tr>\n",
       "    <tr>\n",
       "      <th>4</th>\n",
       "      <td>75</td>\n",
       "      <td>2017-05-09</td>\n",
       "      <td>F</td>\n",
       "      <td>78afa995795e4d85b5d9ceeca43f5fef</td>\n",
       "      <td>100000</td>\n",
       "      <td>1</td>\n",
       "      <td>0</td>\n",
       "      <td>0</td>\n",
       "      <td>4</td>\n",
       "      <td>3</td>\n",
       "      <td>1</td>\n",
       "      <td>2017</td>\n",
       "      <td>708</td>\n",
       "      <td>1</td>\n",
       "      <td>transaction</td>\n",
       "      <td>144</td>\n",
       "      <td>{'amount': 17.78}</td>\n",
       "      <td>17.78</td>\n",
       "      <td>0</td>\n",
       "      <td>6.00</td>\n",
       "    </tr>\n",
       "  </tbody>\n",
       "</table>\n",
       "</div>"
      ],
      "text/plain": [
       "   age became_member_on gender                       customer_id  income  \\\n",
       "0   55       2017-07-15      F  0610b486422d4921ae7d2bf64640c50b  112000   \n",
       "1   55       2017-07-15      F  0610b486422d4921ae7d2bf64640c50b  112000   \n",
       "2   55       2017-07-15      F  0610b486422d4921ae7d2bf64640c50b  112000   \n",
       "3   75       2017-05-09      F  78afa995795e4d85b5d9ceeca43f5fef  100000   \n",
       "4   75       2017-05-09      F  78afa995795e4d85b5d9ceeca43f5fef  100000   \n",
       "\n",
       "   gender_F  gender_M  gender_O  age_group  income_range  gender_group  \\\n",
       "0         1         0         0          3             3             1   \n",
       "1         1         0         0          3             3             1   \n",
       "2         1         0         0          3             3             1   \n",
       "3         1         0         0          4             3             1   \n",
       "4         1         0         0          4             3             1   \n",
       "\n",
       "   year_joined  membership_days  member_type        event  time  \\\n",
       "0         2017              641            1  transaction    18   \n",
       "1         2017              641            1  transaction   144   \n",
       "2         2017              641            1  transaction   528   \n",
       "3         2017              708            1  transaction   132   \n",
       "4         2017              708            1  transaction   144   \n",
       "\n",
       "               value  amount  reward  time_in_days  \n",
       "0  {'amount': 21.51}   21.51       0          0.75  \n",
       "1  {'amount': 32.28}   32.28       0          6.00  \n",
       "2  {'amount': 23.22}   23.22       0         22.00  \n",
       "3  {'amount': 19.89}   19.89       0          5.50  \n",
       "4  {'amount': 17.78}   17.78       0          6.00  "
      ]
     },
     "execution_count": 253,
     "metadata": {},
     "output_type": "execute_result"
    }
   ],
   "source": [
    "# Show transaction_profile merged dataset\n",
    "transaction_profile.head()"
   ]
  },
  {
   "cell_type": "code",
   "execution_count": 255,
   "metadata": {},
   "outputs": [],
   "source": [
    "# Support function. Get the target feature: successful offer\n",
    "def get_offer_succesful(offer_completed_data_df, offer_viewed_data_df, start_time, end_time):\n",
    "    \n",
    "    # get completed offers within end date\n",
    "    offer_completed_withintime = np.logical_and(\n",
    "    offer_completed_data_df['time_in_days'] >= start_time, offer_completed_data_df['time_in_days'] <= end_time)\n",
    "            \n",
    "    # get viewed offers within end date\n",
    "    offer_viewed_withintime = np.logical_and(\n",
    "    offer_viewed_data_df['time_in_days'] >= start_time, offer_viewed_data_df['time_in_days'] <=end_time)\n",
    "\n",
    "    # offer successful is boolean (1/0): offer_successful is 1 if an offer is viewed and completed within end time, else to 0\n",
    "    offer_successful = offer_completed_withintime.sum() > 0 and offer_viewed_withintime.sum() > 0\n",
    "            \n",
    "    # return the target feature\n",
    "    return offer_successful"
   ]
  },
  {
   "cell_type": "code",
   "execution_count": 256,
   "metadata": {},
   "outputs": [],
   "source": [
    "# Support function. Get the customer transaction data\n",
    "def get_customer_transaction_data(customer_transaction_data_df, start_time, end_time):\n",
    "    \n",
    "    # extract transactions occured within time\n",
    "    transaction_withintime = np.logical_and(\n",
    "    customer_transaction_data_df['time_in_days'] >= start_time, customer_transaction_data_df['time_in_days'] <= end_time)\n",
    "        \n",
    "    transaction_data = customer_transaction_data_df[transaction_withintime]\n",
    "    \n",
    "    return transaction_data"
   ]
  },
  {
   "cell_type": "code",
   "execution_count": 257,
   "metadata": {},
   "outputs": [],
   "source": [
    "# Support function. Get the combined data rows to dictionary\n",
    "def get_rows(rows, row, offer_row, customer):\n",
    "                  \n",
    "    row.update(offer_row.iloc[0,0:].to_dict())\n",
    "    row.update(customer.iloc[0,:].to_dict())\n",
    "    rows.append(row)\n",
    "            \n",
    "    return rows"
   ]
  },
  {
   "cell_type": "code",
   "execution_count": 258,
   "metadata": {},
   "outputs": [],
   "source": [
    "\n",
    "# Main function. Get the combined data between offers, transactions and customers.\n",
    "def get_data_combined_df(profile, portfolio, offer_profile, transaction_profile):\n",
    "    '''\n",
    "    INPUT \n",
    "        profile - original profile dataset\n",
    "        portfolio - original portfolio dataset\n",
    "        offer_profile - offer_profile dataset\n",
    "        transaction_profile - transaction_profile dataset\n",
    "        \n",
    "    OUTPUT\n",
    "        Return a combined dataset with the most interesting features to build classification models\n",
    "    '''\n",
    "    data_combined = []\n",
    "    customer_ids = offer_profile['customer_id'].unique()\n",
    "    \n",
    "    # loop through all customer ids in offer received dataset\n",
    "    for ind in range(len(customer_ids)):\n",
    "    \n",
    "        # get customer\n",
    "        customer_id = customer_ids[ind]\n",
    "        \n",
    "        # get customer from profile dataset\n",
    "        customer = profile[profile['customer_id']==customer_id]\n",
    "        \n",
    "        # get customer_offer_data from offer_profile dataset\n",
    "        customer_offer_data = offer_profile[offer_profile['customer_id']==customer_id]\n",
    "        \n",
    "        # get customer_transaction_data from transaction_profile dataset\n",
    "        customer_transaction_data = transaction_profile[transaction_profile['customer_id']==customer_id]\n",
    "        \n",
    "        # get received, completed and viewed offer data from customer_offer_data dataset\n",
    "        offer_received_data = customer_offer_data[customer_offer_data['offer received'] == 1]\n",
    "        offer_completed_data = customer_offer_data[customer_offer_data['offer completed'] == 1]\n",
    "        offer_viewed_data = customer_offer_data[customer_offer_data['offer viewed'] == 1]\n",
    "        \n",
    "        empty_rows = []\n",
    "        \n",
    "        # loop for offer receiveds\n",
    "        for i in range(offer_received_data.shape[0]):\n",
    "            \n",
    "            # get offer id from offer_received_data dataset\n",
    "            offer_id = offer_received_data.iloc[i]['offer_id']\n",
    "            \n",
    "            # get offer row from portfolio datset\n",
    "            offer_row = portfolio.loc[portfolio['offer_id'] == offer_id]\n",
    "            \n",
    "            # extract duration days of an offer from offer row\n",
    "            duration_days = offer_row['duration'].values[0]\n",
    "            \n",
    "            # set up start and end time from offer_received_data dataset\n",
    "            start_time = offer_received_data.iloc[i]['time_in_days']\n",
    "            end_time = start_time + duration_days\n",
    "           \n",
    "            # get offer_successful\n",
    "            offer_successful = get_offer_succesful(offer_completed_data, offer_viewed_data, start_time, end_time)\n",
    "            \n",
    "            # get transaction data\n",
    "            transaction_data = get_customer_transaction_data(customer_transaction_data, start_time, end_time)\n",
    "            \n",
    "            # total amount spent by a customer from given offers\n",
    "            transaction_total_amount = transaction_data['amount'].sum()\n",
    "            \n",
    "            row = {\n",
    "                'offer_id': offer_id,\n",
    "                'customer_id': customer_id,\n",
    "                'time_in_days': start_time,\n",
    "                'total_amount': transaction_total_amount,\n",
    "                'offer_successful': int(offer_successful),\n",
    "            }\n",
    "                \n",
    "            rows = get_rows(empty_rows, row, offer_row, customer)\n",
    "        \n",
    "        data_combined.extend(rows)\n",
    "    \n",
    "    return pd.DataFrame(data_combined)"
   ]
  },
  {
   "cell_type": "code",
   "execution_count": 259,
   "metadata": {},
   "outputs": [],
   "source": [
    "# get data combined dataset\n",
    "import time\n",
    "data_combined_df = get_data_combined_df(profile, portfolio, offer_profile, transaction_profile)"
   ]
  },
  {
   "cell_type": "code",
   "execution_count": 260,
   "metadata": {},
   "outputs": [
    {
     "data": {
      "text/plain": [
       "0    35136\n",
       "1    31365\n",
       "Name: offer_successful, dtype: int64"
      ]
     },
     "execution_count": 260,
     "metadata": {},
     "output_type": "execute_result"
    }
   ],
   "source": [
    "data_combined_df.offer_successful.value_counts()"
   ]
  },
  {
   "cell_type": "code",
   "execution_count": 261,
   "metadata": {},
   "outputs": [
    {
     "name": "stdout",
     "output_type": "stream",
     "text": [
      "<class 'pandas.core.frame.DataFrame'>\n",
      "RangeIndex: 66501 entries, 0 to 66500\n",
      "Data columns (total 30 columns):\n",
      "age                 66501 non-null int64\n",
      "age_group           66501 non-null int64\n",
      "became_member_on    66501 non-null datetime64[ns]\n",
      "bogo                66501 non-null int64\n",
      "channels            66501 non-null object\n",
      "customer_id         66501 non-null object\n",
      "difficulty          66501 non-null int64\n",
      "discount            66501 non-null int64\n",
      "duration            66501 non-null int64\n",
      "email               66501 non-null int64\n",
      "gender              66501 non-null object\n",
      "gender_F            66501 non-null int64\n",
      "gender_M            66501 non-null int64\n",
      "gender_O            66501 non-null int64\n",
      "gender_group        66501 non-null int64\n",
      "income              66501 non-null int64\n",
      "income_range        66501 non-null int64\n",
      "informational       66501 non-null int64\n",
      "member_type         66501 non-null int64\n",
      "membership_days     66501 non-null int64\n",
      "mobile              66501 non-null int64\n",
      "offer_id            66501 non-null object\n",
      "offer_successful    66501 non-null int64\n",
      "offer_type          66501 non-null object\n",
      "reward              66501 non-null int64\n",
      "social              66501 non-null int64\n",
      "time_in_days        66501 non-null float64\n",
      "total_amount        66501 non-null float64\n",
      "web                 66501 non-null int64\n",
      "year_joined         66501 non-null int64\n",
      "dtypes: datetime64[ns](1), float64(2), int64(22), object(5)\n",
      "memory usage: 15.2+ MB\n"
     ]
    }
   ],
   "source": [
    "# data combined info \n",
    "data_combined_df.info()"
   ]
  },
  {
   "cell_type": "code",
   "execution_count": 262,
   "metadata": {},
   "outputs": [],
   "source": [
    "data_combined_df.to_csv('data/combined_data.csv', index=False)"
   ]
  },
  {
   "cell_type": "code",
   "execution_count": 2,
   "metadata": {},
   "outputs": [],
   "source": [
    "# load datasets\n",
    "combined_data = pd.read_csv('data/combined_data.csv')\n",
    "portfolio_cleaned = pd.read_csv('data/portfolio.csv')\n"
   ]
  },
  {
   "cell_type": "code",
   "execution_count": 7,
   "metadata": {},
   "outputs": [],
   "source": [
    "def calculate_test_and_train(features, target, test_size, scaler = False):\n",
    "    '''\n",
    "    INPUT \n",
    "        features - features dataset\n",
    "        target - target / class feature dataset\n",
    "        test_size - split test size percentage\n",
    "        scaler - if True applies MinMaxScaler function. False by default\n",
    "        \n",
    "    OUTPUT\n",
    "        Returns train and test splits\n",
    "    '''\n",
    "    X_train, X_test, y_train, y_test = train_test_split(features.values, target.values, test_size=test_size, random_state=42)\n",
    "    \n",
    "    if (scaler):\n",
    "        scaler = MinMaxScaler()\n",
    "        X_train = scaler.fit_transform(X_train)\n",
    "\n",
    "    y_train = y_train.ravel()\n",
    "    y_test = y_test.ravel()\n",
    "    \n",
    "    return X_train, X_test, y_train, y_test"
   ]
  },
  {
   "cell_type": "code",
   "execution_count": 8,
   "metadata": {},
   "outputs": [],
   "source": [
    "def build_model(algorithm, grid_params, scorer, X_train, y_train):\n",
    "    '''\n",
    "    Apply RandomizedSearchCV and build the model algorithm with the passed parameters.\n",
    "    \n",
    "    INPUT \n",
    "        algorithm - algorithm used to create a model\n",
    "        grid_params - set of grid params\n",
    "        scorer - scorer\n",
    "        X_train - train matrix of features\n",
    "        y_train - train array of the class feature\n",
    "        \n",
    "    OUTPUT\n",
    "        Return the fitted model\n",
    "    '''\n",
    "    lr_random = RandomizedSearchCV(\n",
    "        estimator = algorithm, \n",
    "        \n",
    "        param_distributions = grid_params, \n",
    "        scoring=scorer, \n",
    "        n_iter = 12, \n",
    "        cv = 3, \n",
    "        verbose=2, \n",
    "        random_state=42, \n",
    "        n_jobs = 3)\n",
    "\n",
    "    lr_random.fit(X_train, y_train)\n",
    "    \n",
    "    return lr_random"
   ]
  },
  {
   "cell_type": "code",
   "execution_count": 9,
   "metadata": {},
   "outputs": [],
   "source": [
    "# Support function get class classifier name\n",
    "def get_class_name(clf):\n",
    "    \n",
    "    class_name = re.sub(\"[<>']\", '', str(clf.__class__))\n",
    "    class_name = class_name.split(' ')[1]\n",
    "    class_name = class_name.split('.')[-1]\n",
    "    \n",
    "    return class_name"
   ]
  },
  {
   "cell_type": "code",
   "execution_count": 10,
   "metadata": {},
   "outputs": [],
   "source": [
    "# Calculate and show model metrics on demand\n",
    "def show_model_metrics(clf, X_test, y_test, full_outcome = True):\n",
    "    '''\n",
    "    Show the main metrics of the model\n",
    "    \n",
    "    INPUT \n",
    "        clf - classifier model \n",
    "        X_test - test features matrix\n",
    "        y_test - test target feature array\n",
    "        full_outcome - if True returns the full metrics outcome\n",
    "    OUTPUT\n",
    "        Return model metrics\n",
    "    '''\n",
    "    class_name = get_class_name(clf)\n",
    "\n",
    "    y_pred_rf = clf.predict(X_test)\n",
    "\n",
    "    clf_accuracy = accuracy_score(y_test, y_pred_rf)\n",
    "    clf_f1_score = f1_score(y_test, y_pred_rf)\n",
    "    precision = precision_score(y_test, y_pred_rf)\n",
    "    recall = recall_score(y_test, y_pred_rf)\n",
    "    \n",
    "    if( full_outcome == True):\n",
    "        print(\"%s accuracy: %.3f\" % (class_name, clf_accuracy))\n",
    "        print(\"%s f1-score: %.3f\" % (class_name, clf_f1_score))\n",
    "        print(\"%s precision: %.3f\" % (class_name, precision))\n",
    "        print(\"%s recall: %.3f\" % (class_name, recall))\n",
    "\n",
    "        sns.heatmap(confusion_matrix(y_test, y_pred_rf), annot=True, fmt=\"d\", cmap='Blues', square=True)\n",
    "        plt.show()\n",
    "    \n",
    "    return clf_accuracy, clf_f1_score, y_pred_rf"
   ]
  },
  {
   "cell_type": "code",
   "execution_count": 11,
   "metadata": {},
   "outputs": [],
   "source": [
    "# Calculate AUC-ROC curve and show a visualization\n",
    "def show_roc_auc(algorithm_name, y_test, predicted):\n",
    "    '''\n",
    "    Display the ROC visualization\n",
    "    \n",
    "    INPUT \n",
    "        clf - classifier model \n",
    "        X_test - test features matrix\n",
    "        predicted - targets predicted by the clf\n",
    "        \n",
    "    OUTPUT\n",
    "        ROC plot visualization\n",
    "    '''\n",
    "    \n",
    "    fpr, tpr, thresholds = roc_curve(y_test, predicted)\n",
    "    roc_auc = auc(fpr, tpr)\n",
    "    performance_auc[algorithm_name] = roc_auc\n",
    "\n",
    "    plt.figure()\n",
    "    lw = 2\n",
    "    plt.plot(fpr, tpr, color='darkorange', lw=lw, label='ROC curve (area = %0.2f)' % roc_auc)\n",
    "    plt.plot([0, 1], [0, 1], color='navy', lw=lw, linestyle='--')\n",
    "    plt.xlim([0.0, 1.0])\n",
    "    plt.ylim([0.0, 1.05])\n",
    "    plt.xlabel('False Positive Rate')\n",
    "    plt.ylabel('True Positive Rate')\n",
    "    plt.title('Receiver operating characteristic example')\n",
    "    plt.legend(loc=\"lower right\")\n",
    "    plt.show()"
   ]
  },
  {
   "cell_type": "code",
   "execution_count": 12,
   "metadata": {},
   "outputs": [],
   "source": [
    "performance_auc = {}\n",
    "scorer = make_scorer(fbeta_score, beta=0.5)"
   ]
  },
  {
   "cell_type": "code",
   "execution_count": 18,
   "metadata": {},
   "outputs": [
    {
     "name": "stdout",
     "output_type": "stream",
     "text": [
      "<class 'pandas.core.frame.DataFrame'>\n",
      "RangeIndex: 66501 entries, 0 to 66500\n",
      "Data columns (total 19 columns):\n",
      "age_group           66501 non-null int64\n",
      "bogo                66501 non-null int64\n",
      "channels            66501 non-null object\n",
      "difficulty          66501 non-null int64\n",
      "discount            66501 non-null int64\n",
      "email               66501 non-null int64\n",
      "gender_F            66501 non-null int64\n",
      "gender_M            66501 non-null int64\n",
      "gender_O            66501 non-null int64\n",
      "gender_group        66501 non-null int64\n",
      "income_range        66501 non-null int64\n",
      "informational       66501 non-null int64\n",
      "member_type         66501 non-null int64\n",
      "mobile              66501 non-null int64\n",
      "offer_successful    66501 non-null int64\n",
      "offer_type          66501 non-null object\n",
      "reward              66501 non-null int64\n",
      "social              66501 non-null int64\n",
      "web                 66501 non-null int64\n",
      "dtypes: int64(17), object(2)\n",
      "memory usage: 9.6+ MB\n"
     ]
    }
   ],
   "source": [
    "combined_data.info()"
   ]
  },
  {
   "cell_type": "code",
   "execution_count": 19,
   "metadata": {},
   "outputs": [],
   "source": [
    "combined_data.drop(columns=['channels', 'offer_type'], inplace=True)\n",
    "combined_data.drop(columns=['channels', 'offer_type','customer_id', 'offer_id', 'total_amount', 'age', 'became_member_on', 'duration', 'gender', 'income', 'membership_days', 'year_joined', 'time_in_days'], inplace=True)\n"
   ]
  },
  {
   "cell_type": "code",
   "execution_count": 21,
   "metadata": {},
   "outputs": [],
   "source": [
    "# Prepare features and target\n",
    "class_label_name = 'offer_successful'\n",
    "\n",
    "split_val =  0.3\n",
    "\n",
    "features = combined_data.drop(columns=[class_label_name])\n",
    "target = combined_data.filter([class_label_name])\n",
    "\n",
    "# get test and train \n",
    "X_train, X_test, y_train, y_test = calculate_test_and_train(features, target, split_val)"
   ]
  },
  {
   "cell_type": "code",
   "execution_count": 22,
   "metadata": {},
   "outputs": [
    {
     "name": "stdout",
     "output_type": "stream",
     "text": [
      "Fitting 3 folds for each of 12 candidates, totalling 36 fits\n",
      "[CV] penalty=l2, C=10 ................................................\n",
      "[CV] penalty=l2, C=10 ................................................\n",
      "[CV] penalty=l2, C=10 ................................................\n",
      "[CV] ................................. penalty=l2, C=10, total=   1.0s\n",
      "[CV] penalty=l2, C=100 ...............................................\n",
      "[CV] ................................. penalty=l2, C=10, total=   1.1s\n",
      "[CV] penalty=l2, C=100 ...............................................\n",
      "[CV] ................................. penalty=l2, C=10, total=   1.3s\n",
      "[CV] penalty=l2, C=100 ...............................................\n",
      "[CV] ................................ penalty=l2, C=100, total=   0.9s\n",
      "[CV] ................................ penalty=l2, C=100, total=   0.7s\n",
      "[CV] penalty=l1, C=0.001 .............................................\n",
      "[CV] penalty=l1, C=0.001 .............................................\n",
      "[CV] ................................ penalty=l2, C=100, total=   1.0s\n",
      "[CV] penalty=l1, C=0.001 .............................................\n",
      "[CV] .............................. penalty=l1, C=0.001, total=   0.3s\n",
      "[CV] penalty=l1, C=1000 ..............................................\n",
      "[CV] .............................. penalty=l1, C=0.001, total=   0.6s\n",
      "[CV] penalty=l1, C=1000 ..............................................\n",
      "[CV] .............................. penalty=l1, C=0.001, total=   0.7s\n",
      "[CV] penalty=l1, C=1000 ..............................................\n",
      "[CV] ............................... penalty=l1, C=1000, total=   7.2s\n",
      "[CV] penalty=l2, C=0.1 ...............................................\n",
      "[CV] ............................... penalty=l1, C=1000, total=   7.5s\n",
      "[CV] penalty=l2, C=0.1 ...............................................\n",
      "[CV] ............................... penalty=l1, C=1000, total=   7.4s\n",
      "[CV] penalty=l2, C=0.1 ...............................................\n",
      "[CV] ................................ penalty=l2, C=0.1, total=   0.9s\n",
      "[CV] penalty=l1, C=10 ................................................\n",
      "[CV] ................................ penalty=l2, C=0.1, total=   0.8s\n",
      "[CV] penalty=l1, C=10 ................................................\n",
      "[CV] ................................ penalty=l2, C=0.1, total=   1.1s\n",
      "[CV] penalty=l1, C=10 ................................................\n",
      "[CV] ................................. penalty=l1, C=10, total=   7.7s\n",
      "[CV] penalty=l1, C=0.01 ..............................................\n",
      "[CV] ................................. penalty=l1, C=10, total=   8.3s\n",
      "[CV] penalty=l1, C=0.01 ..............................................\n",
      "[CV] ................................. penalty=l1, C=10, total=   8.5s\n",
      "[CV] penalty=l1, C=0.01 ..............................................\n",
      "[CV] ............................... penalty=l1, C=0.01, total=   1.4s\n",
      "[CV] penalty=l2, C=0.001 .............................................\n",
      "[CV] .............................. penalty=l2, C=0.001, total=   0.3s\n",
      "[CV] penalty=l2, C=0.001 .............................................\n",
      "[CV] .............................. penalty=l2, C=0.001, total=   0.3s\n",
      "[CV] penalty=l2, C=0.001 .............................................\n",
      "[CV] .............................. penalty=l2, C=0.001, total=   0.3s\n",
      "[CV] penalty=l2, C=1000 ..............................................\n",
      "[CV] ............................... penalty=l1, C=0.01, total=   2.5s\n",
      "[CV] penalty=l2, C=1000 ..............................................\n",
      "[CV] ............................... penalty=l2, C=1000, total=   0.6s\n",
      "[CV] ............................... penalty=l1, C=0.01, total=   2.8s\n",
      "[CV] penalty=l2, C=1000 ..............................................\n",
      "[CV] ............................... penalty=l2, C=1000, total=   0.8s\n",
      "[CV] penalty=l1, C=0.1 ...............................................\n",
      "[CV] penalty=l1, C=0.1 ...............................................\n",
      "[CV] ............................... penalty=l2, C=1000, total=   0.8s\n",
      "[CV] penalty=l1, C=0.1 ...............................................\n",
      "[CV] ................................ penalty=l1, C=0.1, total=   7.7s\n",
      "[CV] penalty=l2, C=1 .................................................\n",
      "[CV] .................................. penalty=l2, C=1, total=   0.5s\n",
      "[CV] penalty=l2, C=1 .................................................\n",
      "[CV] ................................ penalty=l1, C=0.1, total=   8.3s\n",
      "[CV] penalty=l2, C=1 .................................................\n",
      "[CV] .................................. penalty=l2, C=1, total=   1.0s\n",
      "[CV] ................................ penalty=l1, C=0.1, total=   9.8s\n",
      "[CV] penalty=l1, C=100 ...............................................\n",
      "[CV] penalty=l1, C=100 ...............................................\n",
      "[CV] .................................. penalty=l2, C=1, total=   1.0s\n",
      "[CV] penalty=l1, C=100 ...............................................\n",
      "[CV] ................................ penalty=l1, C=100, total=   7.4s\n",
      "[CV] ................................ penalty=l1, C=100, total=   7.8s\n",
      "[CV] ................................ penalty=l1, C=100, total=   7.5s\n"
     ]
    },
    {
     "name": "stderr",
     "output_type": "stream",
     "text": [
      "[Parallel(n_jobs=3)]: Done  36 out of  36 | elapsed:   43.4s finished\n"
     ]
    }
   ],
   "source": [
    "# construct a params dict to tune the model\n",
    "grid_params = {\n",
    "    'penalty': ['l1', 'l2'],\n",
    "    'C': [0.001, 0.01, 0.1, 1, 10, 100, 1000]}\n",
    "\n",
    "# instantiate a logistic regression classifer object\n",
    "log_reg = LogisticRegression(random_state=42, solver='liblinear')\n",
    "\n",
    "# Build the logistic regression model\n",
    "log_reg_random = build_model(log_reg, grid_params, scorer, X_train, y_train)"
   ]
  },
  {
   "cell_type": "code",
   "execution_count": 23,
   "metadata": {},
   "outputs": [
    {
     "data": {
      "text/plain": [
       "LogisticRegression(C=0.1, class_weight=None, dual=False, fit_intercept=True,\n",
       "          intercept_scaling=1, max_iter=100, multi_class='ovr', n_jobs=1,\n",
       "          penalty='l2', random_state=42, solver='liblinear', tol=0.0001,\n",
       "          verbose=0, warm_start=False)"
      ]
     },
     "execution_count": 23,
     "metadata": {},
     "output_type": "execute_result"
    }
   ],
   "source": [
    "log_reg_random.best_estimator_"
   ]
  },
  {
   "cell_type": "code",
   "execution_count": 25,
   "metadata": {},
   "outputs": [
    {
     "name": "stdout",
     "output_type": "stream",
     "text": [
      "LogisticRegression model accuracy: 0.693\n",
      "LogisticRegression model f1-score: 0.694\n",
      "LogisticRegression model precision: 0.657\n",
      "LogisticRegression model recall: 0.735\n"
     ]
    },
    {
     "data": {
      "image/png": "[encoded data removed]",
      "text/plain": [
       "<matplotlib.figure.Figure at 0x7fd786850b00>"
      ]
     },
     "metadata": {
      "needs_background": "light"
     },
     "output_type": "display_data"
    }
   ],
   "source": [
    "# evaluate logistic regression model's performance\n",
    "import re\n",
    "x, y, pred_lr = show_model_metrics(log_reg_random.best_estimator_, X_test, y_test)"
   ]
  },
  {
   "cell_type": "code",
   "execution_count": 26,
   "metadata": {},
   "outputs": [
    {
     "data": {
      "image/png": "[encoded data removed]",
      "text/plain": [
       "<matplotlib.figure.Figure at 0x7fd786491080>"
      ]
     },
     "metadata": {
      "needs_background": "light"
     },
     "output_type": "display_data"
    }
   ],
   "source": [
    "# Call function to display ROC visualization\n",
    "show_roc_auc('LogisticRegression', y_test, pred_lr)"
   ]
  },
  {
   "cell_type": "code",
   "execution_count": 27,
   "metadata": {},
   "outputs": [],
   "source": [
    "# instantiate the classifier object\n",
    "gb_clf = GradientBoostingClassifier()\n",
    "\n",
    "# Minimum number of samples required to split a node\n",
    "min_split_samples = [2, 5, 8, 11]\n",
    "\n",
    "# Minimum number of samples required at each leaf node\n",
    "min_samples_leaf = [1, 2, 4, 6, 8]\n",
    "\n",
    "# Create the random grid\n",
    "gb_random_grid = {'loss': ['deviance', 'exponential'],\n",
    "                   'learning_rate': [0.1, 0.01, 0.001],\n",
    "                   'n_estimators': [10, 30, 50, 100, 150, 200, 250, 300, 350],\n",
    "                   'min_samples_leaf': min_samples_leaf,\n",
    "                   'min_samples_split': min_split_samples}"
   ]
  },
  {
   "cell_type": "code",
   "execution_count": 28,
   "metadata": {},
   "outputs": [
    {
     "name": "stdout",
     "output_type": "stream",
     "text": [
      "Fitting 3 folds for each of 12 candidates, totalling 36 fits\n",
      "[CV] n_estimators=10, min_samples_split=11, min_samples_leaf=2, loss=deviance, learning_rate=0.01 \n",
      "[CV] n_estimators=10, min_samples_split=11, min_samples_leaf=2, loss=deviance, learning_rate=0.01 \n",
      "[CV] n_estimators=10, min_samples_split=11, min_samples_leaf=2, loss=deviance, learning_rate=0.01 \n"
     ]
    },
    {
     "name": "stderr",
     "output_type": "stream",
     "text": [
      "/opt/conda/lib/python3.6/site-packages/sklearn/metrics/classification.py:1135: UndefinedMetricWarning: F-score is ill-defined and being set to 0.0 due to no predicted samples.\n",
      "  'precision', 'predicted', average, warn_for)\n",
      "/opt/conda/lib/python3.6/site-packages/sklearn/metrics/classification.py:1135: UndefinedMetricWarning: F-score is ill-defined and being set to 0.0 due to no predicted samples.\n",
      "  'precision', 'predicted', average, warn_for)\n"
     ]
    },
    {
     "name": "stdout",
     "output_type": "stream",
     "text": [
      "[CV]  n_estimators=10, min_samples_split=11, min_samples_leaf=2, loss=deviance, learning_rate=0.01, total=   0.8s\n",
      "[CV]  n_estimators=10, min_samples_split=11, min_samples_leaf=2, loss=deviance, learning_rate=0.01, total=   0.9s\n",
      "[CV] n_estimators=350, min_samples_split=2, min_samples_leaf=1, loss=exponential, learning_rate=0.01 \n",
      "[CV]  n_estimators=10, min_samples_split=11, min_samples_leaf=2, loss=deviance, learning_rate=0.01, total=   0.9s\n",
      "[CV] n_estimators=350, min_samples_split=2, min_samples_leaf=1, loss=exponential, learning_rate=0.01 \n",
      "[CV] n_estimators=350, min_samples_split=2, min_samples_leaf=1, loss=exponential, learning_rate=0.01 \n",
      "[CV]  n_estimators=350, min_samples_split=2, min_samples_leaf=1, loss=exponential, learning_rate=0.01, total=  23.3s\n",
      "[CV] n_estimators=50, min_samples_split=5, min_samples_leaf=1, loss=deviance, learning_rate=0.001 \n",
      "[CV]  n_estimators=350, min_samples_split=2, min_samples_leaf=1, loss=exponential, learning_rate=0.01, total=  23.4s\n",
      "[CV] n_estimators=50, min_samples_split=5, min_samples_leaf=1, loss=deviance, learning_rate=0.001 \n",
      "[CV]  n_estimators=350, min_samples_split=2, min_samples_leaf=1, loss=exponential, learning_rate=0.01, total=  23.8s\n",
      "[CV] n_estimators=50, min_samples_split=5, min_samples_leaf=1, loss=deviance, learning_rate=0.001 \n"
     ]
    },
    {
     "name": "stderr",
     "output_type": "stream",
     "text": [
      "/opt/conda/lib/python3.6/site-packages/sklearn/metrics/classification.py:1135: UndefinedMetricWarning: F-score is ill-defined and being set to 0.0 due to no predicted samples.\n",
      "  'precision', 'predicted', average, warn_for)\n"
     ]
    },
    {
     "name": "stdout",
     "output_type": "stream",
     "text": [
      "[CV]  n_estimators=50, min_samples_split=5, min_samples_leaf=1, loss=deviance, learning_rate=0.001, total=   3.0s\n",
      "[CV] n_estimators=100, min_samples_split=5, min_samples_leaf=2, loss=exponential, learning_rate=0.01 \n"
     ]
    },
    {
     "name": "stderr",
     "output_type": "stream",
     "text": [
      "/opt/conda/lib/python3.6/site-packages/sklearn/metrics/classification.py:1135: UndefinedMetricWarning: F-score is ill-defined and being set to 0.0 due to no predicted samples.\n",
      "  'precision', 'predicted', average, warn_for)\n"
     ]
    },
    {
     "name": "stdout",
     "output_type": "stream",
     "text": [
      "[CV]  n_estimators=50, min_samples_split=5, min_samples_leaf=1, loss=deviance, learning_rate=0.001, total=   3.4s\n",
      "[CV] n_estimators=100, min_samples_split=5, min_samples_leaf=2, loss=exponential, learning_rate=0.01 \n"
     ]
    },
    {
     "name": "stderr",
     "output_type": "stream",
     "text": [
      "/opt/conda/lib/python3.6/site-packages/sklearn/metrics/classification.py:1135: UndefinedMetricWarning: F-score is ill-defined and being set to 0.0 due to no predicted samples.\n",
      "  'precision', 'predicted', average, warn_for)\n"
     ]
    },
    {
     "name": "stdout",
     "output_type": "stream",
     "text": [
      "[CV]  n_estimators=50, min_samples_split=5, min_samples_leaf=1, loss=deviance, learning_rate=0.001, total=   3.3s\n",
      "[CV] n_estimators=100, min_samples_split=5, min_samples_leaf=2, loss=exponential, learning_rate=0.01 \n",
      "[CV]  n_estimators=100, min_samples_split=5, min_samples_leaf=2, loss=exponential, learning_rate=0.01, total=   6.4s\n",
      "[CV] n_estimators=300, min_samples_split=2, min_samples_leaf=8, loss=exponential, learning_rate=0.001 \n",
      "[CV]  n_estimators=100, min_samples_split=5, min_samples_leaf=2, loss=exponential, learning_rate=0.01, total=   6.4s\n",
      "[CV] n_estimators=300, min_samples_split=2, min_samples_leaf=8, loss=exponential, learning_rate=0.001 \n",
      "[CV]  n_estimators=100, min_samples_split=5, min_samples_leaf=2, loss=exponential, learning_rate=0.01, total=   6.4s\n",
      "[CV] n_estimators=300, min_samples_split=2, min_samples_leaf=8, loss=exponential, learning_rate=0.001 \n",
      "[CV]  n_estimators=300, min_samples_split=2, min_samples_leaf=8, loss=exponential, learning_rate=0.001, total=  19.5s\n",
      "[CV] n_estimators=150, min_samples_split=2, min_samples_leaf=4, loss=exponential, learning_rate=0.01 \n",
      "[CV]  n_estimators=300, min_samples_split=2, min_samples_leaf=8, loss=exponential, learning_rate=0.001, total=  19.6s\n",
      "[CV] n_estimators=150, min_samples_split=2, min_samples_leaf=4, loss=exponential, learning_rate=0.01 \n",
      "[CV]  n_estimators=300, min_samples_split=2, min_samples_leaf=8, loss=exponential, learning_rate=0.001, total=  19.9s\n",
      "[CV] n_estimators=150, min_samples_split=2, min_samples_leaf=4, loss=exponential, learning_rate=0.01 \n",
      "[CV]  n_estimators=150, min_samples_split=2, min_samples_leaf=4, loss=exponential, learning_rate=0.01, total=   9.7s\n",
      "[CV] n_estimators=30, min_samples_split=8, min_samples_leaf=4, loss=exponential, learning_rate=0.001 \n",
      "[CV]  n_estimators=150, min_samples_split=2, min_samples_leaf=4, loss=exponential, learning_rate=0.01, total=   9.6s\n",
      "[CV] n_estimators=30, min_samples_split=8, min_samples_leaf=4, loss=exponential, learning_rate=0.001 \n",
      "[CV]  n_estimators=150, min_samples_split=2, min_samples_leaf=4, loss=exponential, learning_rate=0.01, total=   9.5s\n",
      "[CV] n_estimators=30, min_samples_split=8, min_samples_leaf=4, loss=exponential, learning_rate=0.001 \n"
     ]
    },
    {
     "name": "stderr",
     "output_type": "stream",
     "text": [
      "/opt/conda/lib/python3.6/site-packages/sklearn/metrics/classification.py:1135: UndefinedMetricWarning: F-score is ill-defined and being set to 0.0 due to no predicted samples.\n",
      "  'precision', 'predicted', average, warn_for)\n"
     ]
    },
    {
     "name": "stdout",
     "output_type": "stream",
     "text": [
      "[CV]  n_estimators=30, min_samples_split=8, min_samples_leaf=4, loss=exponential, learning_rate=0.001, total=   2.6s\n",
      "[CV] n_estimators=100, min_samples_split=8, min_samples_leaf=4, loss=exponential, learning_rate=0.001 \n"
     ]
    },
    {
     "name": "stderr",
     "output_type": "stream",
     "text": [
      "/opt/conda/lib/python3.6/site-packages/sklearn/metrics/classification.py:1135: UndefinedMetricWarning: F-score is ill-defined and being set to 0.0 due to no predicted samples.\n",
      "  'precision', 'predicted', average, warn_for)\n"
     ]
    },
    {
     "name": "stdout",
     "output_type": "stream",
     "text": [
      "[CV]  n_estimators=30, min_samples_split=8, min_samples_leaf=4, loss=exponential, learning_rate=0.001, total=   2.8s\n",
      "[CV] n_estimators=100, min_samples_split=8, min_samples_leaf=4, loss=exponential, learning_rate=0.001 \n"
     ]
    },
    {
     "name": "stderr",
     "output_type": "stream",
     "text": [
      "/opt/conda/lib/python3.6/site-packages/sklearn/metrics/classification.py:1135: UndefinedMetricWarning: F-score is ill-defined and being set to 0.0 due to no predicted samples.\n",
      "  'precision', 'predicted', average, warn_for)\n"
     ]
    },
    {
     "name": "stdout",
     "output_type": "stream",
     "text": [
      "[CV]  n_estimators=30, min_samples_split=8, min_samples_leaf=4, loss=exponential, learning_rate=0.001, total=   2.9s\n",
      "[CV] n_estimators=100, min_samples_split=8, min_samples_leaf=4, loss=exponential, learning_rate=0.001 \n"
     ]
    },
    {
     "name": "stderr",
     "output_type": "stream",
     "text": [
      "/opt/conda/lib/python3.6/site-packages/sklearn/metrics/classification.py:1135: UndefinedMetricWarning: F-score is ill-defined and being set to 0.0 due to no predicted samples.\n",
      "  'precision', 'predicted', average, warn_for)\n"
     ]
    },
    {
     "name": "stdout",
     "output_type": "stream",
     "text": [
      "[CV]  n_estimators=100, min_samples_split=8, min_samples_leaf=4, loss=exponential, learning_rate=0.001, total=   6.8s\n",
      "[CV] n_estimators=10, min_samples_split=11, min_samples_leaf=8, loss=exponential, learning_rate=0.001 \n"
     ]
    },
    {
     "name": "stderr",
     "output_type": "stream",
     "text": [
      "/opt/conda/lib/python3.6/site-packages/sklearn/metrics/classification.py:1135: UndefinedMetricWarning: F-score is ill-defined and being set to 0.0 due to no predicted samples.\n",
      "  'precision', 'predicted', average, warn_for)\n"
     ]
    },
    {
     "name": "stdout",
     "output_type": "stream",
     "text": [
      "[CV]  n_estimators=100, min_samples_split=8, min_samples_leaf=4, loss=exponential, learning_rate=0.001, total=   6.9s\n",
      "[CV] n_estimators=10, min_samples_split=11, min_samples_leaf=8, loss=exponential, learning_rate=0.001 \n"
     ]
    },
    {
     "name": "stderr",
     "output_type": "stream",
     "text": [
      "/opt/conda/lib/python3.6/site-packages/sklearn/metrics/classification.py:1135: UndefinedMetricWarning: F-score is ill-defined and being set to 0.0 due to no predicted samples.\n",
      "  'precision', 'predicted', average, warn_for)\n"
     ]
    },
    {
     "name": "stdout",
     "output_type": "stream",
     "text": [
      "[CV]  n_estimators=10, min_samples_split=11, min_samples_leaf=8, loss=exponential, learning_rate=0.001, total=   0.9s\n",
      "[CV] n_estimators=10, min_samples_split=11, min_samples_leaf=8, loss=exponential, learning_rate=0.001 \n"
     ]
    },
    {
     "name": "stderr",
     "output_type": "stream",
     "text": [
      "/opt/conda/lib/python3.6/site-packages/sklearn/metrics/classification.py:1135: UndefinedMetricWarning: F-score is ill-defined and being set to 0.0 due to no predicted samples.\n",
      "  'precision', 'predicted', average, warn_for)\n",
      "/opt/conda/lib/python3.6/site-packages/sklearn/metrics/classification.py:1135: UndefinedMetricWarning: F-score is ill-defined and being set to 0.0 due to no predicted samples.\n",
      "  'precision', 'predicted', average, warn_for)\n"
     ]
    },
    {
     "name": "stdout",
     "output_type": "stream",
     "text": [
      "[CV]  n_estimators=100, min_samples_split=8, min_samples_leaf=4, loss=exponential, learning_rate=0.001, total=   6.8s\n",
      "[CV]  n_estimators=10, min_samples_split=11, min_samples_leaf=8, loss=exponential, learning_rate=0.001, total=   0.7s\n",
      "[CV] n_estimators=200, min_samples_split=8, min_samples_leaf=1, loss=exponential, learning_rate=0.001 \n",
      "[CV] n_estimators=200, min_samples_split=8, min_samples_leaf=1, loss=exponential, learning_rate=0.001 \n"
     ]
    },
    {
     "name": "stderr",
     "output_type": "stream",
     "text": [
      "/opt/conda/lib/python3.6/site-packages/sklearn/metrics/classification.py:1135: UndefinedMetricWarning: F-score is ill-defined and being set to 0.0 due to no predicted samples.\n",
      "  'precision', 'predicted', average, warn_for)\n"
     ]
    },
    {
     "name": "stdout",
     "output_type": "stream",
     "text": [
      "[CV]  n_estimators=10, min_samples_split=11, min_samples_leaf=8, loss=exponential, learning_rate=0.001, total=   0.8s\n",
      "[CV] n_estimators=200, min_samples_split=8, min_samples_leaf=1, loss=exponential, learning_rate=0.001 \n",
      "[CV]  n_estimators=200, min_samples_split=8, min_samples_leaf=1, loss=exponential, learning_rate=0.001, total=  13.5s\n",
      "[CV] n_estimators=150, min_samples_split=2, min_samples_leaf=8, loss=exponential, learning_rate=0.001 \n",
      "[CV]  n_estimators=200, min_samples_split=8, min_samples_leaf=1, loss=exponential, learning_rate=0.001, total=  13.4s\n",
      "[CV]  n_estimators=200, min_samples_split=8, min_samples_leaf=1, loss=exponential, learning_rate=0.001, total=  13.7s\n",
      "[CV] n_estimators=150, min_samples_split=2, min_samples_leaf=8, loss=exponential, learning_rate=0.001 \n",
      "[CV] n_estimators=150, min_samples_split=2, min_samples_leaf=8, loss=exponential, learning_rate=0.001 \n",
      "[CV]  n_estimators=150, min_samples_split=2, min_samples_leaf=8, loss=exponential, learning_rate=0.001, total=   9.0s\n",
      "[CV] n_estimators=200, min_samples_split=2, min_samples_leaf=2, loss=exponential, learning_rate=0.01 \n",
      "[CV]  n_estimators=150, min_samples_split=2, min_samples_leaf=8, loss=exponential, learning_rate=0.001, total=   9.3s\n",
      "[CV] n_estimators=200, min_samples_split=2, min_samples_leaf=2, loss=exponential, learning_rate=0.01 \n",
      "[CV]  n_estimators=150, min_samples_split=2, min_samples_leaf=8, loss=exponential, learning_rate=0.001, total=   9.2s\n",
      "[CV] n_estimators=200, min_samples_split=2, min_samples_leaf=2, loss=exponential, learning_rate=0.01 \n",
      "[CV]  n_estimators=200, min_samples_split=2, min_samples_leaf=2, loss=exponential, learning_rate=0.01, total=  12.4s\n",
      "[CV]  n_estimators=200, min_samples_split=2, min_samples_leaf=2, loss=exponential, learning_rate=0.01, total=  12.2s\n",
      "[CV]  n_estimators=200, min_samples_split=2, min_samples_leaf=2, loss=exponential, learning_rate=0.01, total=  12.3s\n"
     ]
    },
    {
     "name": "stderr",
     "output_type": "stream",
     "text": [
      "[Parallel(n_jobs=3)]: Done  36 out of  36 | elapsed:  1.9min finished\n"
     ]
    }
   ],
   "source": [
    "# Call function to build the model\n",
    "gboost_random = build_model(gb_clf, gb_random_grid, scorer, X_train, y_train)"
   ]
  },
  {
   "cell_type": "code",
   "execution_count": 29,
   "metadata": {},
   "outputs": [
    {
     "data": {
      "text/plain": [
       "GradientBoostingClassifier(criterion='friedman_mse', init=None,\n",
       "              learning_rate=0.01, loss='exponential', max_depth=3,\n",
       "              max_features=None, max_leaf_nodes=None,\n",
       "              min_impurity_decrease=0.0, min_impurity_split=None,\n",
       "              min_samples_leaf=1, min_samples_split=2,\n",
       "              min_weight_fraction_leaf=0.0, n_estimators=350,\n",
       "              presort='auto', random_state=None, subsample=1.0, verbose=0,\n",
       "              warm_start=False)"
      ]
     },
     "execution_count": 29,
     "metadata": {},
     "output_type": "execute_result"
    }
   ],
   "source": [
    "# Show the best model estimator\n",
    "gboost_random.best_estimator_"
   ]
  },
  {
   "cell_type": "code",
   "execution_count": 30,
   "metadata": {},
   "outputs": [
    {
     "name": "stdout",
     "output_type": "stream",
     "text": [
      "GradientBoostingClassifier model accuracy: 0.703\n",
      "GradientBoostingClassifier model f1-score: 0.710\n",
      "GradientBoostingClassifier model precision: 0.659\n",
      "GradientBoostingClassifier model recall: 0.771\n"
     ]
    },
    {
     "data": {
      "image/png": "[encoded data removed]",
      "text/plain": [
       "<matplotlib.figure.Figure at 0x7fd786442978>"
      ]
     },
     "metadata": {
      "needs_background": "light"
     },
     "output_type": "display_data"
    }
   ],
   "source": [
    "# evaluate random forest classifier model's performance\n",
    "x, y, pred_gb = show_model_metrics(gboost_random.best_estimator_, X_test, y_test)"
   ]
  },
  {
   "cell_type": "code",
   "execution_count": 31,
   "metadata": {},
   "outputs": [
    {
     "data": {
      "image/png": "[encoded data removed]",
      "text/plain": [
       "<matplotlib.figure.Figure at 0x7fd786483e80>"
      ]
     },
     "metadata": {
      "needs_background": "light"
     },
     "output_type": "display_data"
    }
   ],
   "source": [
    "# Call function to display ROC visualization\n",
    "show_roc_auc('GradientBoosting', y_test, pred_gb)"
   ]
  },
  {
   "cell_type": "code",
   "execution_count": 32,
   "metadata": {},
   "outputs": [],
   "source": [
    "# instantiate a random forest classifier\n",
    "rf_clf = RandomForestClassifier(random_state=42)\n",
    "\n",
    "# Number of trees in random forest\n",
    "n_estimators = [10, 50, 100, 150, 200, 250, 300, 350, 500, 1000]\n",
    "\n",
    "# Number of features to consider at every split\n",
    "max_features = ['auto', 'sqrt']\n",
    "\n",
    "# Maximum number of levels in tree\n",
    "max_depth = [int(x) for x in np.arange(3, 13)]\n",
    "max_depth.append(None)\n",
    "\n",
    "# Minimum number of samples required to split a node\n",
    "min_split_samples = [2, 5, 8]\n",
    "\n",
    "# Minimum number of samples required at each leaf node\n",
    "min_samples_leaf = [1, 2, 4]\n",
    "\n",
    "# Create the random grid\n",
    "random_grid_params = {'n_estimators': n_estimators,\n",
    "               'max_features': max_features,\n",
    "               'max_depth': max_depth,\n",
    "               'min_samples_split': min_split_samples,\n",
    "               'min_samples_leaf': min_samples_leaf}"
   ]
  },
  {
   "cell_type": "code",
   "execution_count": 33,
   "metadata": {},
   "outputs": [
    {
     "name": "stdout",
     "output_type": "stream",
     "text": [
      "Fitting 3 folds for each of 12 candidates, totalling 36 fits\n",
      "[CV] n_estimators=300, min_samples_split=5, min_samples_leaf=2, max_features=auto, max_depth=9 \n",
      "[CV] n_estimators=300, min_samples_split=5, min_samples_leaf=2, max_features=auto, max_depth=9 \n",
      "[CV] n_estimators=300, min_samples_split=5, min_samples_leaf=2, max_features=auto, max_depth=9 \n",
      "[CV]  n_estimators=300, min_samples_split=5, min_samples_leaf=2, max_features=auto, max_depth=9, total=  18.1s\n",
      "[CV] n_estimators=1000, min_samples_split=5, min_samples_leaf=1, max_features=auto, max_depth=11 \n",
      "[CV]  n_estimators=300, min_samples_split=5, min_samples_leaf=2, max_features=auto, max_depth=9, total=  18.1s\n",
      "[CV] n_estimators=1000, min_samples_split=5, min_samples_leaf=1, max_features=auto, max_depth=11 \n",
      "[CV]  n_estimators=300, min_samples_split=5, min_samples_leaf=2, max_features=auto, max_depth=9, total=  18.1s\n",
      "[CV] n_estimators=1000, min_samples_split=5, min_samples_leaf=1, max_features=auto, max_depth=11 \n",
      "[CV]  n_estimators=1000, min_samples_split=5, min_samples_leaf=1, max_features=auto, max_depth=11, total= 1.1min\n",
      "[CV] n_estimators=10, min_samples_split=8, min_samples_leaf=2, max_features=sqrt, max_depth=7 \n",
      "[CV]  n_estimators=10, min_samples_split=8, min_samples_leaf=2, max_features=sqrt, max_depth=7, total=   0.6s\n",
      "[CV] n_estimators=10, min_samples_split=8, min_samples_leaf=2, max_features=sqrt, max_depth=7 \n",
      "[CV]  n_estimators=10, min_samples_split=8, min_samples_leaf=2, max_features=sqrt, max_depth=7, total=   0.5s\n",
      "[CV] n_estimators=10, min_samples_split=8, min_samples_leaf=2, max_features=sqrt, max_depth=7 \n",
      "[CV]  n_estimators=1000, min_samples_split=5, min_samples_leaf=1, max_features=auto, max_depth=11, total= 1.1min\n",
      "[CV]  n_estimators=1000, min_samples_split=5, min_samples_leaf=1, max_features=auto, max_depth=11, total= 1.1min\n",
      "[CV] n_estimators=200, min_samples_split=2, min_samples_leaf=2, max_features=auto, max_depth=10 \n",
      "[CV] n_estimators=200, min_samples_split=2, min_samples_leaf=2, max_features=auto, max_depth=10 \n",
      "[CV]  n_estimators=10, min_samples_split=8, min_samples_leaf=2, max_features=sqrt, max_depth=7, total=   0.5s\n",
      "[CV] n_estimators=200, min_samples_split=2, min_samples_leaf=2, max_features=auto, max_depth=10 \n",
      "[CV]  n_estimators=200, min_samples_split=2, min_samples_leaf=2, max_features=auto, max_depth=10, total=  12.7s\n",
      "[CV]  n_estimators=200, min_samples_split=2, min_samples_leaf=2, max_features=auto, max_depth=10, total=  12.7s\n",
      "[CV] n_estimators=10, min_samples_split=8, min_samples_leaf=2, max_features=auto, max_depth=9 \n",
      "[CV] n_estimators=10, min_samples_split=8, min_samples_leaf=2, max_features=auto, max_depth=9 \n",
      "[CV]  n_estimators=200, min_samples_split=2, min_samples_leaf=2, max_features=auto, max_depth=10, total=  12.7s\n",
      "[CV] n_estimators=10, min_samples_split=8, min_samples_leaf=2, max_features=auto, max_depth=9 \n",
      "[CV]  n_estimators=10, min_samples_split=8, min_samples_leaf=2, max_features=auto, max_depth=9, total=   0.6s\n",
      "[CV] n_estimators=250, min_samples_split=5, min_samples_leaf=1, max_features=auto, max_depth=9 \n",
      "[CV]  n_estimators=10, min_samples_split=8, min_samples_leaf=2, max_features=auto, max_depth=9, total=   0.6s\n",
      "[CV] n_estimators=250, min_samples_split=5, min_samples_leaf=1, max_features=auto, max_depth=9 \n",
      "[CV]  n_estimators=10, min_samples_split=8, min_samples_leaf=2, max_features=auto, max_depth=9, total=   0.6s\n",
      "[CV] n_estimators=250, min_samples_split=5, min_samples_leaf=1, max_features=auto, max_depth=9 \n",
      "[CV]  n_estimators=250, min_samples_split=5, min_samples_leaf=1, max_features=auto, max_depth=9, total=  14.4s\n",
      "[CV]  n_estimators=250, min_samples_split=5, min_samples_leaf=1, max_features=auto, max_depth=9, total=  14.5s\n",
      "[CV] n_estimators=200, min_samples_split=5, min_samples_leaf=1, max_features=sqrt, max_depth=12 \n",
      "[CV] n_estimators=200, min_samples_split=5, min_samples_leaf=1, max_features=sqrt, max_depth=12 \n",
      "[CV]  n_estimators=250, min_samples_split=5, min_samples_leaf=1, max_features=auto, max_depth=9, total=  14.5s\n",
      "[CV] n_estimators=200, min_samples_split=5, min_samples_leaf=1, max_features=sqrt, max_depth=12 \n",
      "[CV]  n_estimators=200, min_samples_split=5, min_samples_leaf=1, max_features=sqrt, max_depth=12, total=  12.5s\n",
      "[CV] n_estimators=200, min_samples_split=8, min_samples_leaf=2, max_features=sqrt, max_depth=8 \n",
      "[CV]  n_estimators=200, min_samples_split=5, min_samples_leaf=1, max_features=sqrt, max_depth=12, total=  12.6s\n",
      "[CV] n_estimators=200, min_samples_split=8, min_samples_leaf=2, max_features=sqrt, max_depth=8 \n",
      "[CV]  n_estimators=200, min_samples_split=5, min_samples_leaf=1, max_features=sqrt, max_depth=12, total=  12.8s\n",
      "[CV] n_estimators=200, min_samples_split=8, min_samples_leaf=2, max_features=sqrt, max_depth=8 \n",
      "[CV]  n_estimators=200, min_samples_split=8, min_samples_leaf=2, max_features=sqrt, max_depth=8, total=  11.6s\n",
      "[CV] n_estimators=500, min_samples_split=5, min_samples_leaf=1, max_features=auto, max_depth=12 \n",
      "[CV]  n_estimators=200, min_samples_split=8, min_samples_leaf=2, max_features=sqrt, max_depth=8, total=  11.7s\n",
      "[CV] n_estimators=500, min_samples_split=5, min_samples_leaf=1, max_features=auto, max_depth=12 \n",
      "[CV]  n_estimators=200, min_samples_split=8, min_samples_leaf=2, max_features=sqrt, max_depth=8, total=  11.5s\n",
      "[CV] n_estimators=500, min_samples_split=5, min_samples_leaf=1, max_features=auto, max_depth=12 \n",
      "[CV]  n_estimators=500, min_samples_split=5, min_samples_leaf=1, max_features=auto, max_depth=12, total=  32.6s\n",
      "[CV] n_estimators=50, min_samples_split=2, min_samples_leaf=2, max_features=sqrt, max_depth=3 \n",
      "[CV]  n_estimators=500, min_samples_split=5, min_samples_leaf=1, max_features=auto, max_depth=12, total=  33.2s\n",
      "[CV] n_estimators=50, min_samples_split=2, min_samples_leaf=2, max_features=sqrt, max_depth=3 \n",
      "[CV]  n_estimators=500, min_samples_split=5, min_samples_leaf=1, max_features=auto, max_depth=12, total=  32.9s\n",
      "[CV] n_estimators=50, min_samples_split=2, min_samples_leaf=2, max_features=sqrt, max_depth=3 \n",
      "[CV]  n_estimators=50, min_samples_split=2, min_samples_leaf=2, max_features=sqrt, max_depth=3, total=   1.9s\n",
      "[CV] n_estimators=300, min_samples_split=5, min_samples_leaf=1, max_features=sqrt, max_depth=5 \n",
      "[CV]  n_estimators=50, min_samples_split=2, min_samples_leaf=2, max_features=sqrt, max_depth=3, total=   2.2s\n",
      "[CV] n_estimators=300, min_samples_split=5, min_samples_leaf=1, max_features=sqrt, max_depth=5 \n",
      "[CV]  n_estimators=50, min_samples_split=2, min_samples_leaf=2, max_features=sqrt, max_depth=3, total=   2.2s\n",
      "[CV] n_estimators=300, min_samples_split=5, min_samples_leaf=1, max_features=sqrt, max_depth=5 \n",
      "[CV]  n_estimators=300, min_samples_split=5, min_samples_leaf=1, max_features=sqrt, max_depth=5, total=  13.5s\n",
      "[CV] n_estimators=500, min_samples_split=2, min_samples_leaf=4, max_features=sqrt, max_depth=9 \n",
      "[CV]  n_estimators=300, min_samples_split=5, min_samples_leaf=1, max_features=sqrt, max_depth=5, total=  13.3s\n",
      "[CV] n_estimators=500, min_samples_split=2, min_samples_leaf=4, max_features=sqrt, max_depth=9 \n",
      "[CV]  n_estimators=300, min_samples_split=5, min_samples_leaf=1, max_features=sqrt, max_depth=5, total=  13.3s\n",
      "[CV] n_estimators=500, min_samples_split=2, min_samples_leaf=4, max_features=sqrt, max_depth=9 \n",
      "[CV]  n_estimators=500, min_samples_split=2, min_samples_leaf=4, max_features=sqrt, max_depth=9, total=  29.3s\n",
      "[CV]  n_estimators=500, min_samples_split=2, min_samples_leaf=4, max_features=sqrt, max_depth=9, total=  29.1s\n",
      "[CV]  n_estimators=500, min_samples_split=2, min_samples_leaf=4, max_features=sqrt, max_depth=9, total=  29.4s\n"
     ]
    },
    {
     "name": "stderr",
     "output_type": "stream",
     "text": [
      "[Parallel(n_jobs=3)]: Done  36 out of  36 | elapsed:  4.2min finished\n"
     ]
    }
   ],
   "source": [
    "# Call function to build the model\n",
    "rf_random = build_model(rf_clf, random_grid_params, scorer, X_train, y_train)"
   ]
  },
  {
   "cell_type": "code",
   "execution_count": 34,
   "metadata": {},
   "outputs": [
    {
     "data": {
      "text/plain": [
       "{'n_estimators': 500,\n",
       " 'min_samples_split': 2,\n",
       " 'min_samples_leaf': 4,\n",
       " 'max_features': 'sqrt',\n",
       " 'max_depth': 9}"
      ]
     },
     "execution_count": 34,
     "metadata": {},
     "output_type": "execute_result"
    }
   ],
   "source": [
    "rf_random.best_params_"
   ]
  },
  {
   "cell_type": "code",
   "execution_count": 36,
   "metadata": {},
   "outputs": [
    {
     "name": "stdout",
     "output_type": "stream",
     "text": [
      "RandomForestClassifier model accuracy: 0.704\n",
      "RandomForestClassifier model f1-score: 0.707\n",
      "RandomForestClassifier model precision: 0.665\n",
      "RandomForestClassifier model recall: 0.755\n"
     ]
    },
    {
     "data": {
      "image/png": "[encoded data removed]",
      "text/plain": [
       "<matplotlib.figure.Figure at 0x7fd7864deb00>"
      ]
     },
     "metadata": {
      "needs_background": "light"
     },
     "output_type": "display_data"
    }
   ],
   "source": [
    "# evaluate random forest classifier model's performance\n",
    "x, y, pred_rf = show_model_metrics(rf_random.best_estimator_, X_test, y_test)"
   ]
  },
  {
   "cell_type": "code",
   "execution_count": 37,
   "metadata": {},
   "outputs": [],
   "source": [
    "# Calculate the best features according to importance on RandomForest classifier\n",
    "relative_importance = rf_random.best_estimator_.feature_importances_\n",
    "relative_importance = relative_importance / np.sum(relative_importance)\n",
    "\n",
    "feature_importance =\\\n",
    "    pd.DataFrame(list(zip(features,\n",
    "                          relative_importance)),\n",
    "                 columns=['feature', 'relativeimportance'])\n",
    "\n",
    "feature_importance = feature_importance.sort_values('relativeimportance',\n",
    "                                                    ascending=False)\n",
    "\n",
    "feature_importance = feature_importance.reset_index(drop=True)\n",
    "\n",
    "palette = sns.color_palette(\"Blues_r\", feature_importance.shape[0])"
   ]
  },
  {
   "cell_type": "code",
   "execution_count": 38,
   "metadata": {},
   "outputs": [
    {
     "data": {
      "text/plain": [
       "Text(0.5,1,'Random Forest Estimated Feature Importance')"
      ]
     },
     "execution_count": 38,
     "metadata": {},
     "output_type": "execute_result"
    },
    {
     "data": {
      "image/png": "[encoded data removed]",
      "text/plain": [
       "<matplotlib.figure.Figure at 0x7fd786472e10>"
      ]
     },
     "metadata": {
      "needs_background": "light"
     },
     "output_type": "display_data"
    }
   ],
   "source": [
    "# Show estimated feature importance plot\n",
    "plt.figure(figsize=(8, 8))\n",
    "sns.barplot(x='relativeimportance',\n",
    "            y='feature',\n",
    "            data=feature_importance,\n",
    "            palette=palette)\n",
    "plt.xlabel('Relative Importance')\n",
    "plt.ylabel('Feature')\n",
    "plt.title('Random Forest Estimated Feature Importance')"
   ]
  },
  {
   "cell_type": "code",
   "execution_count": null,
   "metadata": {},
   "outputs": [],
   "source": []
  },
  {
   "cell_type": "code",
   "execution_count": null,
   "metadata": {},
   "outputs": [],
   "source": []
  },
  {
   "cell_type": "code",
   "execution_count": null,
   "metadata": {},
   "outputs": [],
   "source": []
  },
  {
   "cell_type": "code",
   "execution_count": null,
   "metadata": {},
   "outputs": [],
   "source": []
  },
  {
   "cell_type": "code",
   "execution_count": null,
   "metadata": {},
   "outputs": [],
   "source": []
  },
  {
   "cell_type": "code",
   "execution_count": null,
   "metadata": {},
   "outputs": [],
   "source": []
  }
 ],
 "metadata": {
  "kernelspec": {
   "display_name": "Python 3",
   "language": "python",
   "name": "python3"
  },
  "language_info": {
   "codemirror_mode": {
    "name": "ipython",
    "version": 3
   },
   "file_extension": ".py",
   "mimetype": "text/x-python",
   "name": "python",
   "nbconvert_exporter": "python",
   "pygments_lexer": "ipython3",
   "version": "3.6.3"
  }
 },
 "nbformat": 4,
 "nbformat_minor": 2
}
